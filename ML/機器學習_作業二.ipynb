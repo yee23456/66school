{
  "nbformat": 4,
  "nbformat_minor": 0,
  "metadata": {
    "colab": {
      "name": "機器學習 作業二",
      "provenance": []
    },
    "kernelspec": {
      "name": "python3",
      "display_name": "Python 3"
    },
    "language_info": {
      "name": "python"
    }
  },
  "cells": [
    {
      "cell_type": "code",
      "metadata": {
        "id": "qqPt6DxDnaDs"
      },
      "source": [
        "import pandas as pd\n",
        "df=pd.read_excel('boston_house(type).xlsx')"
      ],
      "execution_count": null,
      "outputs": []
    },
    {
      "cell_type": "code",
      "metadata": {
        "colab": {
          "base_uri": "https://localhost:8080/",
          "height": 204
        },
        "id": "lM6PUxConx9p",
        "outputId": "ea7318d9-f7d4-43e7-c68b-64b46c4c546d"
      },
      "source": [
        "df.head(5)"
      ],
      "execution_count": null,
      "outputs": [
        {
          "output_type": "execute_result",
          "data": {
            "text/html": [
              "<div>\n",
              "<style scoped>\n",
              "    .dataframe tbody tr th:only-of-type {\n",
              "        vertical-align: middle;\n",
              "    }\n",
              "\n",
              "    .dataframe tbody tr th {\n",
              "        vertical-align: top;\n",
              "    }\n",
              "\n",
              "    .dataframe thead th {\n",
              "        text-align: right;\n",
              "    }\n",
              "</style>\n",
              "<table border=\"1\" class=\"dataframe\">\n",
              "  <thead>\n",
              "    <tr style=\"text-align: right;\">\n",
              "      <th></th>\n",
              "      <th>Unnamed: 0</th>\n",
              "      <th>CRIM</th>\n",
              "      <th>ZN</th>\n",
              "      <th>INDUS</th>\n",
              "      <th>CHAS</th>\n",
              "      <th>NOX</th>\n",
              "      <th>RM</th>\n",
              "      <th>AGE</th>\n",
              "      <th>DIS</th>\n",
              "      <th>RAD</th>\n",
              "      <th>TAX</th>\n",
              "      <th>PTRATIO</th>\n",
              "      <th>B</th>\n",
              "      <th>LSTAT</th>\n",
              "      <th>PRICE</th>\n",
              "      <th>PRICE TYPE</th>\n",
              "    </tr>\n",
              "  </thead>\n",
              "  <tbody>\n",
              "    <tr>\n",
              "      <th>0</th>\n",
              "      <td>0</td>\n",
              "      <td>0.00632</td>\n",
              "      <td>18.0</td>\n",
              "      <td>2.31</td>\n",
              "      <td>0</td>\n",
              "      <td>0.538</td>\n",
              "      <td>6.575</td>\n",
              "      <td>65.2</td>\n",
              "      <td>4.0900</td>\n",
              "      <td>1</td>\n",
              "      <td>296</td>\n",
              "      <td>15.3</td>\n",
              "      <td>396.90</td>\n",
              "      <td>4.98</td>\n",
              "      <td>24.0</td>\n",
              "      <td>2</td>\n",
              "    </tr>\n",
              "    <tr>\n",
              "      <th>1</th>\n",
              "      <td>1</td>\n",
              "      <td>0.02731</td>\n",
              "      <td>0.0</td>\n",
              "      <td>7.07</td>\n",
              "      <td>0</td>\n",
              "      <td>0.469</td>\n",
              "      <td>6.421</td>\n",
              "      <td>78.9</td>\n",
              "      <td>4.9671</td>\n",
              "      <td>2</td>\n",
              "      <td>242</td>\n",
              "      <td>17.8</td>\n",
              "      <td>396.90</td>\n",
              "      <td>9.14</td>\n",
              "      <td>21.6</td>\n",
              "      <td>2</td>\n",
              "    </tr>\n",
              "    <tr>\n",
              "      <th>2</th>\n",
              "      <td>2</td>\n",
              "      <td>0.02729</td>\n",
              "      <td>0.0</td>\n",
              "      <td>7.07</td>\n",
              "      <td>0</td>\n",
              "      <td>0.469</td>\n",
              "      <td>7.185</td>\n",
              "      <td>61.1</td>\n",
              "      <td>4.9671</td>\n",
              "      <td>2</td>\n",
              "      <td>242</td>\n",
              "      <td>17.8</td>\n",
              "      <td>392.83</td>\n",
              "      <td>4.03</td>\n",
              "      <td>34.7</td>\n",
              "      <td>2</td>\n",
              "    </tr>\n",
              "    <tr>\n",
              "      <th>3</th>\n",
              "      <td>3</td>\n",
              "      <td>0.03237</td>\n",
              "      <td>0.0</td>\n",
              "      <td>2.18</td>\n",
              "      <td>0</td>\n",
              "      <td>0.458</td>\n",
              "      <td>6.998</td>\n",
              "      <td>45.8</td>\n",
              "      <td>6.0622</td>\n",
              "      <td>3</td>\n",
              "      <td>222</td>\n",
              "      <td>18.7</td>\n",
              "      <td>394.63</td>\n",
              "      <td>2.94</td>\n",
              "      <td>33.4</td>\n",
              "      <td>2</td>\n",
              "    </tr>\n",
              "    <tr>\n",
              "      <th>4</th>\n",
              "      <td>4</td>\n",
              "      <td>0.06905</td>\n",
              "      <td>0.0</td>\n",
              "      <td>2.18</td>\n",
              "      <td>0</td>\n",
              "      <td>0.458</td>\n",
              "      <td>7.147</td>\n",
              "      <td>54.2</td>\n",
              "      <td>6.0622</td>\n",
              "      <td>3</td>\n",
              "      <td>222</td>\n",
              "      <td>18.7</td>\n",
              "      <td>396.90</td>\n",
              "      <td>5.33</td>\n",
              "      <td>36.2</td>\n",
              "      <td>2</td>\n",
              "    </tr>\n",
              "  </tbody>\n",
              "</table>\n",
              "</div>"
            ],
            "text/plain": [
              "   Unnamed: 0     CRIM    ZN  INDUS  ...       B  LSTAT  PRICE  PRICE TYPE\n",
              "0           0  0.00632  18.0   2.31  ...  396.90   4.98   24.0           2\n",
              "1           1  0.02731   0.0   7.07  ...  396.90   9.14   21.6           2\n",
              "2           2  0.02729   0.0   7.07  ...  392.83   4.03   34.7           2\n",
              "3           3  0.03237   0.0   2.18  ...  394.63   2.94   33.4           2\n",
              "4           4  0.06905   0.0   2.18  ...  396.90   5.33   36.2           2\n",
              "\n",
              "[5 rows x 16 columns]"
            ]
          },
          "metadata": {},
          "execution_count": 3
        }
      ]
    },
    {
      "cell_type": "code",
      "metadata": {
        "colab": {
          "base_uri": "https://localhost:8080/"
        },
        "id": "V3UajD-9oUbg",
        "outputId": "6c0e39df-36f3-4134-9666-c9f29566c623"
      },
      "source": [
        "df.isnull().any() #尋找空值變數"
      ],
      "execution_count": null,
      "outputs": [
        {
          "output_type": "execute_result",
          "data": {
            "text/plain": [
              "Unnamed: 0    False\n",
              "CRIM          False\n",
              "ZN            False\n",
              "INDUS         False\n",
              "CHAS          False\n",
              "NOX           False\n",
              "RM            False\n",
              "AGE           False\n",
              "DIS           False\n",
              "RAD           False\n",
              "TAX           False\n",
              "PTRATIO       False\n",
              "B             False\n",
              "LSTAT         False\n",
              "PRICE         False\n",
              "PRICE TYPE    False\n",
              "dtype: bool"
            ]
          },
          "metadata": {},
          "execution_count": 6
        }
      ]
    },
    {
      "cell_type": "code",
      "metadata": {
        "id": "uQSXgyixn1Np"
      },
      "source": [
        "y = df['PRICE TYPE']\n",
        "X = df.drop(['Unnamed: 0','PRICE TYPE'],axis = 1)\n",
        "from sklearn.model_selection import train_test_split\n",
        "X_train, X_test,y_train,y_test = train_test_split(X,y,test_size=0.25,random_state=5)"
      ],
      "execution_count": null,
      "outputs": []
    },
    {
      "cell_type": "code",
      "metadata": {
        "id": "EooAgXgVoYM0",
        "outputId": "c844fd3b-4807-4b5b-f96f-244ba189c4f1",
        "colab": {
          "base_uri": "https://localhost:8080/"
        }
      },
      "source": [
        "from sklearn.discriminant_analysis import LinearDiscriminantAnalysis\n",
        "LDA = LinearDiscriminantAnalysis()\n",
        "LDA.fit(X_train,y_train)"
      ],
      "execution_count": null,
      "outputs": [
        {
          "output_type": "execute_result",
          "data": {
            "text/plain": [
              "LinearDiscriminantAnalysis(n_components=None, priors=None, shrinkage=None,\n",
              "                           solver='svd', store_covariance=False, tol=0.0001)"
            ]
          },
          "metadata": {},
          "execution_count": 8
        }
      ]
    },
    {
      "cell_type": "code",
      "metadata": {
        "id": "xlB7Xk1PoZJc",
        "outputId": "e902743b-9ec4-467f-ec36-44ee8f34eda5",
        "colab": {
          "base_uri": "https://localhost:8080/"
        }
      },
      "source": [
        "from sklearn.metrics import classification_report,confusion_matrix\n",
        "LDA_tpred= LDA.predict(X_train)\n",
        "print(confusion_matrix(y_train,LDA_tpred))\n",
        "print(\"======================================================\\n\")\n",
        "print(classification_report(y_train,LDA_tpred))"
      ],
      "execution_count": null,
      "outputs": [
        {
          "output_type": "stream",
          "name": "stdout",
          "text": [
            "[[135  23]\n",
            " [ 16 205]]\n",
            "======================================================\n",
            "\n",
            "              precision    recall  f1-score   support\n",
            "\n",
            "           1       0.89      0.85      0.87       158\n",
            "           2       0.90      0.93      0.91       221\n",
            "\n",
            "    accuracy                           0.90       379\n",
            "   macro avg       0.90      0.89      0.89       379\n",
            "weighted avg       0.90      0.90      0.90       379\n",
            "\n"
          ]
        }
      ]
    },
    {
      "cell_type": "code",
      "metadata": {
        "id": "7OWFRkmVoa85",
        "outputId": "d28b9665-805f-4c5e-f8f9-9163bdc75791",
        "colab": {
          "base_uri": "https://localhost:8080/"
        }
      },
      "source": [
        "#列印測試資料的混淆矩陣(confusion matrix)以及模式衡量指標\n",
        "LDA_pred= LDA.predict(X_test)\n",
        "print(confusion_matrix(y_test,LDA_pred))\n",
        "print(\"======================================================\\n\")\n",
        "print(classification_report(y_test,LDA_pred))"
      ],
      "execution_count": null,
      "outputs": [
        {
          "output_type": "stream",
          "name": "stdout",
          "text": [
            "[[48  9]\n",
            " [ 6 64]]\n",
            "======================================================\n",
            "\n",
            "              precision    recall  f1-score   support\n",
            "\n",
            "           1       0.89      0.84      0.86        57\n",
            "           2       0.88      0.91      0.90        70\n",
            "\n",
            "    accuracy                           0.88       127\n",
            "   macro avg       0.88      0.88      0.88       127\n",
            "weighted avg       0.88      0.88      0.88       127\n",
            "\n"
          ]
        }
      ]
    }
  ]
}