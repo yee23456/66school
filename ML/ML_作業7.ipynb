{
  "nbformat": 4,
  "nbformat_minor": 0,
  "metadata": {
    "colab": {
      "name": "ML_作業七",
      "provenance": [],
      "collapsed_sections": []
    },
    "kernelspec": {
      "name": "python3",
      "display_name": "Python 3"
    },
    "language_info": {
      "name": "python"
    }
  },
  "cells": [
    {
      "cell_type": "code",
      "metadata": {
        "colab": {
          "base_uri": "https://localhost:8080/"
        },
        "id": "XIumqYOMVvyM",
        "outputId": "9cd34400-05b7-49a3-9deb-3ce55d12bbc2"
      },
      "source": [
        "!wget -O /usr/share/fonts/truetype/liberation/simhei.ttf \"https://www.wfonts.com/download/data/2014/06/01/simhei/chinese.simhei.ttf\"\n",
        "import matplotlib.pyplot as plt\n",
        "import matplotlib as mpl\n",
        "zhfont = mpl.font_manager.FontProperties(fname='/usr/share/fonts/truetype/liberation/simhei.ttf')\n",
        "plt.rcParams['axes.unicode_minus'] = False "
      ],
      "execution_count": null,
      "outputs": [
        {
          "output_type": "stream",
          "name": "stdout",
          "text": [
            "--2021-12-07 04:22:07--  https://www.wfonts.com/download/data/2014/06/01/simhei/chinese.simhei.ttf\n",
            "Resolving www.wfonts.com (www.wfonts.com)... 104.225.219.210\n",
            "Connecting to www.wfonts.com (www.wfonts.com)|104.225.219.210|:443... connected.\n",
            "HTTP request sent, awaiting response... 200 OK\n",
            "Length: 10050870 (9.6M) [application/octetstream]\n",
            "Saving to: ‘/usr/share/fonts/truetype/liberation/simhei.ttf’\n",
            "\n",
            "/usr/share/fonts/tr 100%[===================>]   9.58M  24.5MB/s    in 0.4s    \n",
            "\n",
            "2021-12-07 04:22:07 (24.5 MB/s) - ‘/usr/share/fonts/truetype/liberation/simhei.ttf’ saved [10050870/10050870]\n",
            "\n"
          ]
        }
      ]
    },
    {
      "cell_type": "code",
      "metadata": {
        "id": "8hYGz1urx0vX"
      },
      "source": [
        "import pandas as pd\n",
        "import numpy as np\n",
        "import random as rnd\n",
        "import seaborn as sns\n",
        "import matplotlib.font_manager as fm\n",
        "import matplotlib.pyplot as plt\n",
        "from scipy import stats\n",
        "from sklearn import preprocessing\n",
        "from random import sample\n",
        "import matplotlib.colors as pltc\n",
        "import numpy as np\n",
        "import pandas as pd\n",
        "from pandas_profiling import ProfileReport\n",
        "%matplotlib inline\n",
        "plt.rcParams['figure.figsize']=(15,8)\n",
        "from sklearn import tree #導入決策樹模組"
      ],
      "execution_count": null,
      "outputs": []
    },
    {
      "cell_type": "code",
      "metadata": {
        "id": "aDTMj8Umx3vd",
        "colab": {
          "base_uri": "https://localhost:8080/"
        },
        "outputId": "e5c63402-ede3-425f-8998-b1b6d3786ade"
      },
      "source": [
        "from sklearn.linear_model import LogisticRegression\n",
        "from sklearn.model_selection import train_test_split\n",
        "from sklearn.metrics import classification_report,confusion_matrix\n",
        "from sklearn.metrics import confusion_matrix\n",
        "from sklearn import metrics\n",
        "import statsmodels.api as sm "
      ],
      "execution_count": null,
      "outputs": [
        {
          "output_type": "stream",
          "name": "stderr",
          "text": [
            "/usr/local/lib/python3.7/dist-packages/statsmodels/tools/_testing.py:19: FutureWarning: pandas.util.testing is deprecated. Use the functions in the public API at pandas.testing instead.\n",
            "  import pandas.util.testing as tm\n"
          ]
        }
      ]
    },
    {
      "cell_type": "code",
      "metadata": {
        "id": "i73llyrku0CM"
      },
      "source": [
        "import pandas as pd\n",
        "df=pd.read_excel('loan(new).xlsx')"
      ],
      "execution_count": null,
      "outputs": []
    },
    {
      "cell_type": "code",
      "metadata": {
        "colab": {
          "base_uri": "https://localhost:8080/",
          "height": 677
        },
        "id": "_xw4FhO-vba2",
        "outputId": "1833840e-e5fb-4a8b-a509-7100615abdb6"
      },
      "source": [
        "df.head()"
      ],
      "execution_count": null,
      "outputs": [
        {
          "output_type": "execute_result",
          "data": {
            "text/html": [
              "<div>\n",
              "<style scoped>\n",
              "    .dataframe tbody tr th:only-of-type {\n",
              "        vertical-align: middle;\n",
              "    }\n",
              "\n",
              "    .dataframe tbody tr th {\n",
              "        vertical-align: top;\n",
              "    }\n",
              "\n",
              "    .dataframe thead th {\n",
              "        text-align: right;\n",
              "    }\n",
              "</style>\n",
              "<table border=\"1\" class=\"dataframe\">\n",
              "  <thead>\n",
              "    <tr style=\"text-align: right;\">\n",
              "      <th></th>\n",
              "      <th>編號</th>\n",
              "      <th>貸款狀態</th>\n",
              "      <th>產業別</th>\n",
              "      <th>企業型態</th>\n",
              "      <th>成立時間</th>\n",
              "      <th>擔保品</th>\n",
              "      <th>銀行往來關係</th>\n",
              "      <th>最近三年增資情形</th>\n",
              "      <th>負責人年齡</th>\n",
              "      <th>負責人學歷</th>\n",
              "      <th>是否動用信用卡循環額度</th>\n",
              "      <th>流動比率1</th>\n",
              "      <th>流動比率2</th>\n",
              "      <th>流動比率3</th>\n",
              "      <th>速動比率1</th>\n",
              "      <th>速動比率2</th>\n",
              "      <th>速動比率3</th>\n",
              "      <th>負債比率1</th>\n",
              "      <th>負債比率2</th>\n",
              "      <th>負債比率3</th>\n",
              "      <th>固定長期適合率1</th>\n",
              "      <th>固定長期適合率2</th>\n",
              "      <th>固定長期適合率3</th>\n",
              "      <th>應收款項週轉率1</th>\n",
              "      <th>應收款項週轉率2</th>\n",
              "      <th>應收款項週轉率3</th>\n",
              "      <th>存貨週轉率1</th>\n",
              "      <th>存貨週轉率2</th>\n",
              "      <th>存貨週轉率3</th>\n",
              "    </tr>\n",
              "  </thead>\n",
              "  <tbody>\n",
              "    <tr>\n",
              "      <th>0</th>\n",
              "      <td>1</td>\n",
              "      <td>normal household</td>\n",
              "      <td>manufacturing</td>\n",
              "      <td>family</td>\n",
              "      <td>more than 10 years</td>\n",
              "      <td>Partial deposit guarantee</td>\n",
              "      <td>main bank</td>\n",
              "      <td>no</td>\n",
              "      <td>45-60 years old</td>\n",
              "      <td>college graduation</td>\n",
              "      <td>no</td>\n",
              "      <td>59.1</td>\n",
              "      <td>55.1</td>\n",
              "      <td>17.1</td>\n",
              "      <td>45.4</td>\n",
              "      <td>45.2</td>\n",
              "      <td>10.0</td>\n",
              "      <td>NaN</td>\n",
              "      <td>NaN</td>\n",
              "      <td>NaN</td>\n",
              "      <td>NaN</td>\n",
              "      <td>NaN</td>\n",
              "      <td>NaN</td>\n",
              "      <td>8.7</td>\n",
              "      <td>4.3</td>\n",
              "      <td>7.7</td>\n",
              "      <td>6.7</td>\n",
              "      <td>11.6</td>\n",
              "      <td>18.1</td>\n",
              "    </tr>\n",
              "    <tr>\n",
              "      <th>1</th>\n",
              "      <td>2</td>\n",
              "      <td>normal household</td>\n",
              "      <td>non-manufacturing</td>\n",
              "      <td>family</td>\n",
              "      <td>1-5years</td>\n",
              "      <td>Credit guarantee agency</td>\n",
              "      <td>non-main bank</td>\n",
              "      <td>yes</td>\n",
              "      <td>60 years old or older</td>\n",
              "      <td>high school</td>\n",
              "      <td>no</td>\n",
              "      <td>361.6</td>\n",
              "      <td>52.7</td>\n",
              "      <td>119.0</td>\n",
              "      <td>335.6</td>\n",
              "      <td>46.7</td>\n",
              "      <td>99.7</td>\n",
              "      <td>17.5</td>\n",
              "      <td>NaN</td>\n",
              "      <td>387.3</td>\n",
              "      <td>53.8</td>\n",
              "      <td>NaN</td>\n",
              "      <td>0.7</td>\n",
              "      <td>3.6</td>\n",
              "      <td>7.1</td>\n",
              "      <td>2.6</td>\n",
              "      <td>3.1</td>\n",
              "      <td>38.2</td>\n",
              "      <td>24.0</td>\n",
              "    </tr>\n",
              "    <tr>\n",
              "      <th>2</th>\n",
              "      <td>3</td>\n",
              "      <td>normal household</td>\n",
              "      <td>manufacturing</td>\n",
              "      <td>family</td>\n",
              "      <td>5-10years</td>\n",
              "      <td>Credit guarantee agency</td>\n",
              "      <td>main bank</td>\n",
              "      <td>no</td>\n",
              "      <td>45-60 years old</td>\n",
              "      <td>under junior high school</td>\n",
              "      <td>yes</td>\n",
              "      <td>15308.3</td>\n",
              "      <td>801.7</td>\n",
              "      <td>372.3</td>\n",
              "      <td>1300.0</td>\n",
              "      <td>34.0</td>\n",
              "      <td>12.9</td>\n",
              "      <td>0.2</td>\n",
              "      <td>47.8</td>\n",
              "      <td>30.7</td>\n",
              "      <td>0.2</td>\n",
              "      <td>47.8</td>\n",
              "      <td>30.7</td>\n",
              "      <td>1.9</td>\n",
              "      <td>4.5</td>\n",
              "      <td>NaN</td>\n",
              "      <td>4.2</td>\n",
              "      <td>0.1</td>\n",
              "      <td>0.0</td>\n",
              "    </tr>\n",
              "    <tr>\n",
              "      <th>3</th>\n",
              "      <td>4</td>\n",
              "      <td>normal household</td>\n",
              "      <td>non-manufacturing</td>\n",
              "      <td>family</td>\n",
              "      <td>more than 10 years</td>\n",
              "      <td>movable property or real estate</td>\n",
              "      <td>main bank</td>\n",
              "      <td>no</td>\n",
              "      <td>45-60 years old</td>\n",
              "      <td>under junior high school</td>\n",
              "      <td>no</td>\n",
              "      <td>19.0</td>\n",
              "      <td>4.6</td>\n",
              "      <td>6.1</td>\n",
              "      <td>17.2</td>\n",
              "      <td>3.1</td>\n",
              "      <td>5.6</td>\n",
              "      <td>3089.8</td>\n",
              "      <td>NaN</td>\n",
              "      <td>NaN</td>\n",
              "      <td>2567.4</td>\n",
              "      <td>NaN</td>\n",
              "      <td>NaN</td>\n",
              "      <td>25.7</td>\n",
              "      <td>22.4</td>\n",
              "      <td>34.4</td>\n",
              "      <td>104.4</td>\n",
              "      <td>112.3</td>\n",
              "      <td>NaN</td>\n",
              "    </tr>\n",
              "    <tr>\n",
              "      <th>4</th>\n",
              "      <td>5</td>\n",
              "      <td>normal household</td>\n",
              "      <td>manufacturing</td>\n",
              "      <td>family</td>\n",
              "      <td>5-10years</td>\n",
              "      <td>movable property or real estate</td>\n",
              "      <td>main bank</td>\n",
              "      <td>yes</td>\n",
              "      <td>30-45 years old</td>\n",
              "      <td>high school</td>\n",
              "      <td>no</td>\n",
              "      <td>123.4</td>\n",
              "      <td>101.7</td>\n",
              "      <td>142.4</td>\n",
              "      <td>2.4</td>\n",
              "      <td>41.7</td>\n",
              "      <td>28.8</td>\n",
              "      <td>398.4</td>\n",
              "      <td>5714.7</td>\n",
              "      <td>235.5</td>\n",
              "      <td>1.8</td>\n",
              "      <td>5.0</td>\n",
              "      <td>0.1</td>\n",
              "      <td>NaN</td>\n",
              "      <td>19.9</td>\n",
              "      <td>10.6</td>\n",
              "      <td>2.8</td>\n",
              "      <td>3.5</td>\n",
              "      <td>2.2</td>\n",
              "    </tr>\n",
              "  </tbody>\n",
              "</table>\n",
              "</div>"
            ],
            "text/plain": [
              "   編號              貸款狀態                產業別  ... 存貨週轉率1 存貨週轉率2 存貨週轉率3\n",
              "0   1  normal household      manufacturing  ...    6.7   11.6   18.1\n",
              "1   2  normal household  non-manufacturing  ...    3.1   38.2   24.0\n",
              "2   3  normal household      manufacturing  ...    4.2    0.1    0.0\n",
              "3   4  normal household  non-manufacturing  ...  104.4  112.3    NaN\n",
              "4   5  normal household      manufacturing  ...    2.8    3.5    2.2\n",
              "\n",
              "[5 rows x 29 columns]"
            ]
          },
          "metadata": {},
          "execution_count": 5
        }
      ]
    },
    {
      "cell_type": "code",
      "metadata": {
        "id": "1hGJrYWYvxhm",
        "outputId": "82778f25-bfbe-426f-9557-e48f32748048",
        "colab": {
          "base_uri": "https://localhost:8080/"
        }
      },
      "source": [
        "df=df.dropna()\n",
        "df['貸款狀態'] = df['貸款狀態'].apply(lambda x:0 if x == \"Default account\" else 1)"
      ],
      "execution_count": null,
      "outputs": [
        {
          "output_type": "stream",
          "name": "stderr",
          "text": [
            "/usr/local/lib/python3.7/dist-packages/ipykernel_launcher.py:2: SettingWithCopyWarning: \n",
            "A value is trying to be set on a copy of a slice from a DataFrame.\n",
            "Try using .loc[row_indexer,col_indexer] = value instead\n",
            "\n",
            "See the caveats in the documentation: https://pandas.pydata.org/pandas-docs/stable/user_guide/indexing.html#returning-a-view-versus-a-copy\n",
            "  \n"
          ]
        }
      ]
    },
    {
      "cell_type": "code",
      "metadata": {
        "id": "AzBBtzGKzjap",
        "outputId": "88df71bd-eda6-475b-d760-933993ce6e21",
        "colab": {
          "base_uri": "https://localhost:8080/"
        }
      },
      "source": [
        "from sklearn.preprocessing import LabelEncoder\n",
        "labelencoder = LabelEncoder()\n",
        "for i in [\"產業別\",\"企業型態\",\t\"成立時間\",\t\"擔保品\",\t\"銀行往來關係\",\t\"最近三年增資情形\",\t\"負責人年齡\",\t\"負責人學歷\",\t\"是否動用信用卡循環額度\"]:\n",
        "  df[i] = labelencoder.fit_transform(df[i])"
      ],
      "execution_count": null,
      "outputs": [
        {
          "output_type": "stream",
          "name": "stderr",
          "text": [
            "/usr/local/lib/python3.7/dist-packages/ipykernel_launcher.py:4: SettingWithCopyWarning: \n",
            "A value is trying to be set on a copy of a slice from a DataFrame.\n",
            "Try using .loc[row_indexer,col_indexer] = value instead\n",
            "\n",
            "See the caveats in the documentation: https://pandas.pydata.org/pandas-docs/stable/user_guide/indexing.html#returning-a-view-versus-a-copy\n",
            "  after removing the cwd from sys.path.\n"
          ]
        }
      ]
    },
    {
      "cell_type": "markdown",
      "metadata": {
        "id": "ec0yaCV5-dLT"
      },
      "source": [
        "#變異數分析"
      ]
    },
    {
      "cell_type": "code",
      "metadata": {
        "colab": {
          "base_uri": "https://localhost:8080/",
          "height": 613
        },
        "id": "MhvBa-QKAA-i",
        "outputId": "78d52bc9-d53e-44ec-8b6f-c7c2999129a2"
      },
      "source": [
        "one=df.drop([\"編號\",\"貸款狀態\",\"產業別\",\"企業型態\",\t\"成立時間\",\t\"擔保品\",\t\"銀行往來關係\",\t\"最近三年增資情形\",\t\"負責人年齡\",\t\"負責人學歷\",\t\"是否動用信用卡循環額度\"],axis=1).columns\n",
        "name2=[]\n",
        "alist2=[]\n",
        "pvlist2=[]\n",
        "for i in range(len(one)):\n",
        "  (a2,pv2)=stats.f_oneway(df[one[i]][df['貸款狀態']==0],\n",
        "                          df[one[i]][df['貸款狀態']==1])\n",
        "  name2.append(one[i])\n",
        "  alist2.append(a2)\n",
        "  pvlist2.append(pv2)\n",
        "result2=pd.DataFrame(alist2,name2,columns=['F_value'])\n",
        "result2.insert(1,'p-value',pvlist2)\n",
        "result2['是否顯著影響'] = result2[\"p-value\"].apply(lambda x:\"顯著影響\" if x<=0.05 else \"無顯著影響\")\n",
        "result2"
      ],
      "execution_count": null,
      "outputs": [
        {
          "output_type": "execute_result",
          "data": {
            "text/html": [
              "<div>\n",
              "<style scoped>\n",
              "    .dataframe tbody tr th:only-of-type {\n",
              "        vertical-align: middle;\n",
              "    }\n",
              "\n",
              "    .dataframe tbody tr th {\n",
              "        vertical-align: top;\n",
              "    }\n",
              "\n",
              "    .dataframe thead th {\n",
              "        text-align: right;\n",
              "    }\n",
              "</style>\n",
              "<table border=\"1\" class=\"dataframe\">\n",
              "  <thead>\n",
              "    <tr style=\"text-align: right;\">\n",
              "      <th></th>\n",
              "      <th>F_value</th>\n",
              "      <th>p-value</th>\n",
              "      <th>是否顯著影響</th>\n",
              "    </tr>\n",
              "  </thead>\n",
              "  <tbody>\n",
              "    <tr>\n",
              "      <th>流動比率1</th>\n",
              "      <td>0.049649</td>\n",
              "      <td>0.824085</td>\n",
              "      <td>無顯著影響</td>\n",
              "    </tr>\n",
              "    <tr>\n",
              "      <th>流動比率2</th>\n",
              "      <td>0.712800</td>\n",
              "      <td>0.400332</td>\n",
              "      <td>無顯著影響</td>\n",
              "    </tr>\n",
              "    <tr>\n",
              "      <th>流動比率3</th>\n",
              "      <td>0.628486</td>\n",
              "      <td>0.429602</td>\n",
              "      <td>無顯著影響</td>\n",
              "    </tr>\n",
              "    <tr>\n",
              "      <th>速動比率1</th>\n",
              "      <td>0.020621</td>\n",
              "      <td>0.886076</td>\n",
              "      <td>無顯著影響</td>\n",
              "    </tr>\n",
              "    <tr>\n",
              "      <th>速動比率2</th>\n",
              "      <td>0.583452</td>\n",
              "      <td>0.446583</td>\n",
              "      <td>無顯著影響</td>\n",
              "    </tr>\n",
              "    <tr>\n",
              "      <th>速動比率3</th>\n",
              "      <td>0.938440</td>\n",
              "      <td>0.334786</td>\n",
              "      <td>無顯著影響</td>\n",
              "    </tr>\n",
              "    <tr>\n",
              "      <th>負債比率1</th>\n",
              "      <td>0.413997</td>\n",
              "      <td>0.521275</td>\n",
              "      <td>無顯著影響</td>\n",
              "    </tr>\n",
              "    <tr>\n",
              "      <th>負債比率2</th>\n",
              "      <td>0.046505</td>\n",
              "      <td>0.829656</td>\n",
              "      <td>無顯著影響</td>\n",
              "    </tr>\n",
              "    <tr>\n",
              "      <th>負債比率3</th>\n",
              "      <td>0.209779</td>\n",
              "      <td>0.647836</td>\n",
              "      <td>無顯著影響</td>\n",
              "    </tr>\n",
              "    <tr>\n",
              "      <th>固定長期適合率1</th>\n",
              "      <td>3.071863</td>\n",
              "      <td>0.082419</td>\n",
              "      <td>無顯著影響</td>\n",
              "    </tr>\n",
              "    <tr>\n",
              "      <th>固定長期適合率2</th>\n",
              "      <td>1.795403</td>\n",
              "      <td>0.183006</td>\n",
              "      <td>無顯著影響</td>\n",
              "    </tr>\n",
              "    <tr>\n",
              "      <th>固定長期適合率3</th>\n",
              "      <td>2.557378</td>\n",
              "      <td>0.112623</td>\n",
              "      <td>無顯著影響</td>\n",
              "    </tr>\n",
              "    <tr>\n",
              "      <th>應收款項週轉率1</th>\n",
              "      <td>0.802955</td>\n",
              "      <td>0.372151</td>\n",
              "      <td>無顯著影響</td>\n",
              "    </tr>\n",
              "    <tr>\n",
              "      <th>應收款項週轉率2</th>\n",
              "      <td>0.685615</td>\n",
              "      <td>0.409437</td>\n",
              "      <td>無顯著影響</td>\n",
              "    </tr>\n",
              "    <tr>\n",
              "      <th>應收款項週轉率3</th>\n",
              "      <td>0.346706</td>\n",
              "      <td>0.557180</td>\n",
              "      <td>無顯著影響</td>\n",
              "    </tr>\n",
              "    <tr>\n",
              "      <th>存貨週轉率1</th>\n",
              "      <td>0.282293</td>\n",
              "      <td>0.596264</td>\n",
              "      <td>無顯著影響</td>\n",
              "    </tr>\n",
              "    <tr>\n",
              "      <th>存貨週轉率2</th>\n",
              "      <td>0.091910</td>\n",
              "      <td>0.762331</td>\n",
              "      <td>無顯著影響</td>\n",
              "    </tr>\n",
              "    <tr>\n",
              "      <th>存貨週轉率3</th>\n",
              "      <td>0.283170</td>\n",
              "      <td>0.595695</td>\n",
              "      <td>無顯著影響</td>\n",
              "    </tr>\n",
              "  </tbody>\n",
              "</table>\n",
              "</div>"
            ],
            "text/plain": [
              "           F_value   p-value 是否顯著影響\n",
              "流動比率1     0.049649  0.824085  無顯著影響\n",
              "流動比率2     0.712800  0.400332  無顯著影響\n",
              "流動比率3     0.628486  0.429602  無顯著影響\n",
              "速動比率1     0.020621  0.886076  無顯著影響\n",
              "速動比率2     0.583452  0.446583  無顯著影響\n",
              "速動比率3     0.938440  0.334786  無顯著影響\n",
              "負債比率1     0.413997  0.521275  無顯著影響\n",
              "負債比率2     0.046505  0.829656  無顯著影響\n",
              "負債比率3     0.209779  0.647836  無顯著影響\n",
              "固定長期適合率1  3.071863  0.082419  無顯著影響\n",
              "固定長期適合率2  1.795403  0.183006  無顯著影響\n",
              "固定長期適合率3  2.557378  0.112623  無顯著影響\n",
              "應收款項週轉率1  0.802955  0.372151  無顯著影響\n",
              "應收款項週轉率2  0.685615  0.409437  無顯著影響\n",
              "應收款項週轉率3  0.346706  0.557180  無顯著影響\n",
              "存貨週轉率1    0.282293  0.596264  無顯著影響\n",
              "存貨週轉率2    0.091910  0.762331  無顯著影響\n",
              "存貨週轉率3    0.283170  0.595695  無顯著影響"
            ]
          },
          "metadata": {},
          "execution_count": 8
        }
      ]
    },
    {
      "cell_type": "code",
      "metadata": {
        "colab": {
          "base_uri": "https://localhost:8080/",
          "height": 331
        },
        "id": "UyeihvPvB0hR",
        "outputId": "b34f5923-63c3-464a-bae3-8981b4790070"
      },
      "source": [
        "qv3=[\"產業別\",\"企業型態\",\t\"成立時間\",\t\"擔保品\",\t\"銀行往來關係\",\t\"最近三年增資情形\",\t\"負責人年齡\",\t\"負責人學歷\",\t\"是否動用信用卡循環額度\"]\n",
        "chi = []\n",
        "p = []\n",
        "name = []\n",
        "for i in qv3:\n",
        "  hh=pd.crosstab(df['貸款狀態'],df[i])\n",
        "  cr=stats.chi2_contingency(hh)\n",
        "  p.append(cr[1])\n",
        "  chi.append(cr[0])\n",
        "  name.append(i)\n",
        "name = pd.DataFrame(name)\n",
        "name['chi'] = chi\n",
        "name['p'] = p\n",
        "name['是否顯著影響'] = name[\"p\"].apply(lambda x:\"顯著影響\" if x<=0.05 else \"無顯著影響\")\n",
        "name"
      ],
      "execution_count": null,
      "outputs": [
        {
          "output_type": "execute_result",
          "data": {
            "text/html": [
              "<div>\n",
              "<style scoped>\n",
              "    .dataframe tbody tr th:only-of-type {\n",
              "        vertical-align: middle;\n",
              "    }\n",
              "\n",
              "    .dataframe tbody tr th {\n",
              "        vertical-align: top;\n",
              "    }\n",
              "\n",
              "    .dataframe thead th {\n",
              "        text-align: right;\n",
              "    }\n",
              "</style>\n",
              "<table border=\"1\" class=\"dataframe\">\n",
              "  <thead>\n",
              "    <tr style=\"text-align: right;\">\n",
              "      <th></th>\n",
              "      <th>0</th>\n",
              "      <th>chi</th>\n",
              "      <th>p</th>\n",
              "      <th>是否顯著影響</th>\n",
              "    </tr>\n",
              "  </thead>\n",
              "  <tbody>\n",
              "    <tr>\n",
              "      <th>0</th>\n",
              "      <td>產業別</td>\n",
              "      <td>0.000000</td>\n",
              "      <td>1.000000e+00</td>\n",
              "      <td>無顯著影響</td>\n",
              "    </tr>\n",
              "    <tr>\n",
              "      <th>1</th>\n",
              "      <td>企業型態</td>\n",
              "      <td>0.203085</td>\n",
              "      <td>6.522422e-01</td>\n",
              "      <td>無顯著影響</td>\n",
              "    </tr>\n",
              "    <tr>\n",
              "      <th>2</th>\n",
              "      <td>成立時間</td>\n",
              "      <td>10.360594</td>\n",
              "      <td>5.626336e-03</td>\n",
              "      <td>顯著影響</td>\n",
              "    </tr>\n",
              "    <tr>\n",
              "      <th>3</th>\n",
              "      <td>擔保品</td>\n",
              "      <td>18.719020</td>\n",
              "      <td>3.125170e-04</td>\n",
              "      <td>顯著影響</td>\n",
              "    </tr>\n",
              "    <tr>\n",
              "      <th>4</th>\n",
              "      <td>銀行往來關係</td>\n",
              "      <td>0.407657</td>\n",
              "      <td>5.231609e-01</td>\n",
              "      <td>無顯著影響</td>\n",
              "    </tr>\n",
              "    <tr>\n",
              "      <th>5</th>\n",
              "      <td>最近三年增資情形</td>\n",
              "      <td>0.856938</td>\n",
              "      <td>3.545970e-01</td>\n",
              "      <td>無顯著影響</td>\n",
              "    </tr>\n",
              "    <tr>\n",
              "      <th>6</th>\n",
              "      <td>負責人年齡</td>\n",
              "      <td>12.451428</td>\n",
              "      <td>5.986406e-03</td>\n",
              "      <td>顯著影響</td>\n",
              "    </tr>\n",
              "    <tr>\n",
              "      <th>7</th>\n",
              "      <td>負責人學歷</td>\n",
              "      <td>0.581544</td>\n",
              "      <td>9.006442e-01</td>\n",
              "      <td>無顯著影響</td>\n",
              "    </tr>\n",
              "    <tr>\n",
              "      <th>8</th>\n",
              "      <td>是否動用信用卡循環額度</td>\n",
              "      <td>29.690859</td>\n",
              "      <td>5.067320e-08</td>\n",
              "      <td>顯著影響</td>\n",
              "    </tr>\n",
              "  </tbody>\n",
              "</table>\n",
              "</div>"
            ],
            "text/plain": [
              "             0        chi             p 是否顯著影響\n",
              "0          產業別   0.000000  1.000000e+00  無顯著影響\n",
              "1         企業型態   0.203085  6.522422e-01  無顯著影響\n",
              "2         成立時間  10.360594  5.626336e-03   顯著影響\n",
              "3          擔保品  18.719020  3.125170e-04   顯著影響\n",
              "4       銀行往來關係   0.407657  5.231609e-01  無顯著影響\n",
              "5     最近三年增資情形   0.856938  3.545970e-01  無顯著影響\n",
              "6        負責人年齡  12.451428  5.986406e-03   顯著影響\n",
              "7        負責人學歷   0.581544  9.006442e-01  無顯著影響\n",
              "8  是否動用信用卡循環額度  29.690859  5.067320e-08   顯著影響"
            ]
          },
          "metadata": {},
          "execution_count": 9
        }
      ]
    },
    {
      "cell_type": "code",
      "metadata": {
        "id": "C_y8UVVpyUu4"
      },
      "source": [
        "y = df[\"貸款狀態\"]\n",
        "X = df[[\"成立時間\",\"擔保品\",\"負責人年齡\",\"是否動用信用卡循環額度\",]]"
      ],
      "execution_count": null,
      "outputs": []
    },
    {
      "cell_type": "code",
      "metadata": {
        "id": "LaUrqL6pbwQ_"
      },
      "source": [
        "# log_reg = sm.Logit(y, X).fit() \n",
        "# print(log_reg.summary())"
      ],
      "execution_count": null,
      "outputs": []
    },
    {
      "cell_type": "code",
      "metadata": {
        "id": "0b9FkZUk58SE"
      },
      "source": [
        "from sklearn.model_selection import train_test_split #區分訓練集與測試集\n",
        "X_train, X_test,y_train,y_test = train_test_split(X,y,test_size=0.2,random_state=5) "
      ],
      "execution_count": null,
      "outputs": []
    },
    {
      "cell_type": "markdown",
      "metadata": {
        "id": "p0Hr_7muylXM"
      },
      "source": [
        "#決策樹分析"
      ]
    },
    {
      "cell_type": "code",
      "metadata": {
        "id": "4kZJ_Kigyqkb"
      },
      "source": [
        "from sklearn import tree\n",
        "DT = tree.DecisionTreeClassifier(max_depth=5)\n",
        "DT= DT.fit(X, y)"
      ],
      "execution_count": null,
      "outputs": []
    },
    {
      "cell_type": "code",
      "metadata": {
        "colab": {
          "base_uri": "https://localhost:8080/"
        },
        "id": "66UzxCnz1OmK",
        "outputId": "3e53c073-3725-4dc5-c117-88837fc39619"
      },
      "source": [
        "DT_pred= DT.predict(X_train)\n",
        "from sklearn.metrics import classification_report,confusion_matrix\n",
        "print(confusion_matrix(y_train,DT_pred))\n",
        "print(\"======================================================\\n\")\n",
        "print(classification_report(y_train,DT_pred))"
      ],
      "execution_count": null,
      "outputs": [
        {
          "output_type": "stream",
          "name": "stdout",
          "text": [
            "[[13  3]\n",
            " [ 3 71]]\n",
            "======================================================\n",
            "\n",
            "              precision    recall  f1-score   support\n",
            "\n",
            "           0       0.81      0.81      0.81        16\n",
            "           1       0.96      0.96      0.96        74\n",
            "\n",
            "    accuracy                           0.93        90\n",
            "   macro avg       0.89      0.89      0.89        90\n",
            "weighted avg       0.93      0.93      0.93        90\n",
            "\n"
          ]
        }
      ]
    },
    {
      "cell_type": "code",
      "metadata": {
        "colab": {
          "base_uri": "https://localhost:8080/"
        },
        "id": "Ky2zB_Oj1b_S",
        "outputId": "e2cb8737-ef40-49fa-dab3-27c205634b98"
      },
      "source": [
        "DT_pred= DT.predict(X_test)\n",
        "from sklearn.metrics import classification_report,confusion_matrix\n",
        "print(confusion_matrix(y_test,DT_pred))\n",
        "print(\"======================================================\\n\")\n",
        "print(classification_report(y_test,DT_pred))"
      ],
      "execution_count": null,
      "outputs": [
        {
          "output_type": "stream",
          "name": "stdout",
          "text": [
            "[[ 2  2]\n",
            " [ 1 18]]\n",
            "======================================================\n",
            "\n",
            "              precision    recall  f1-score   support\n",
            "\n",
            "           0       0.67      0.50      0.57         4\n",
            "           1       0.90      0.95      0.92        19\n",
            "\n",
            "    accuracy                           0.87        23\n",
            "   macro avg       0.78      0.72      0.75        23\n",
            "weighted avg       0.86      0.87      0.86        23\n",
            "\n"
          ]
        }
      ]
    },
    {
      "cell_type": "code",
      "metadata": {
        "colab": {
          "base_uri": "https://localhost:8080/",
          "height": 35
        },
        "id": "qc7egvkB2Wlv",
        "outputId": "6098c71f-f8ff-4704-a6eb-169dab33c504"
      },
      "source": [
        "import graphviz \n",
        "dot_data = tree.export_graphviz(DT,feature_names=[\"成立時間\",\"擔保品\",\"負責人年齡\",\"是否動用信用卡循環額度\"],    \n",
        "                      filled=True, rounded=True,fontname=zhfont)  \n",
        "graph = graphviz.Source(dot_data,format=\"png\")  \n",
        "graph \n",
        "graph.render(\"決策樹\")"
      ],
      "execution_count": null,
      "outputs": [
        {
          "output_type": "execute_result",
          "data": {
            "application/vnd.google.colaboratory.intrinsic+json": {
              "type": "string"
            },
            "text/plain": [
              "'決策樹.png'"
            ]
          },
          "metadata": {},
          "execution_count": 16
        }
      ]
    },
    {
      "cell_type": "markdown",
      "metadata": {
        "id": "Re751JcN3kaT"
      },
      "source": [
        "#SVM"
      ]
    },
    {
      "cell_type": "code",
      "metadata": {
        "colab": {
          "base_uri": "https://localhost:8080/"
        },
        "id": "2VClnkxG2Wez",
        "outputId": "56e47c5a-9f64-4f6e-9642-c60ee6f337c2"
      },
      "source": [
        "from sklearn import svm \n",
        "clf = svm.SVC(kernel = 'linear') \n",
        "clf.fit(X_train,y_train) "
      ],
      "execution_count": null,
      "outputs": [
        {
          "output_type": "execute_result",
          "data": {
            "text/plain": [
              "SVC(kernel='linear')"
            ]
          },
          "metadata": {},
          "execution_count": 17
        }
      ]
    },
    {
      "cell_type": "code",
      "metadata": {
        "colab": {
          "base_uri": "https://localhost:8080/"
        },
        "id": "mqyPuTOK3qz1",
        "outputId": "ed73be2e-1bac-42d8-e599-a892453ce6d8"
      },
      "source": [
        "#列印訓練完成之模式的混淆矩陣(confusion matrix)以及模式衡量指標\n",
        "from sklearn.metrics import classification_report,confusion_matrix\n",
        "clf_tpred= clf.predict(X_train)\n",
        "print(confusion_matrix(y_train,clf_tpred))\n",
        "print(\"======================================================\\n\")\n",
        "print(classification_report(y_train,clf_tpred))"
      ],
      "execution_count": null,
      "outputs": [
        {
          "output_type": "stream",
          "name": "stdout",
          "text": [
            "[[ 7  9]\n",
            " [ 2 72]]\n",
            "======================================================\n",
            "\n",
            "              precision    recall  f1-score   support\n",
            "\n",
            "           0       0.78      0.44      0.56        16\n",
            "           1       0.89      0.97      0.93        74\n",
            "\n",
            "    accuracy                           0.88        90\n",
            "   macro avg       0.83      0.71      0.74        90\n",
            "weighted avg       0.87      0.88      0.86        90\n",
            "\n"
          ]
        }
      ]
    },
    {
      "cell_type": "code",
      "metadata": {
        "colab": {
          "base_uri": "https://localhost:8080/"
        },
        "id": "wW2x6CDd30O6",
        "outputId": "613ac307-2936-4366-94a7-c5c5c11e2457"
      },
      "source": [
        "clf_pred= clf.predict(X_test)\n",
        "print(confusion_matrix(y_test,clf_pred))\n",
        "print(\"======================================================\\n\")\n",
        "print(classification_report(y_test,clf_pred))"
      ],
      "execution_count": null,
      "outputs": [
        {
          "output_type": "stream",
          "name": "stdout",
          "text": [
            "[[ 2  2]\n",
            " [ 0 19]]\n",
            "======================================================\n",
            "\n",
            "              precision    recall  f1-score   support\n",
            "\n",
            "           0       1.00      0.50      0.67         4\n",
            "           1       0.90      1.00      0.95        19\n",
            "\n",
            "    accuracy                           0.91        23\n",
            "   macro avg       0.95      0.75      0.81        23\n",
            "weighted avg       0.92      0.91      0.90        23\n",
            "\n"
          ]
        }
      ]
    },
    {
      "cell_type": "markdown",
      "metadata": {
        "id": "yo3dRkCu4GFl"
      },
      "source": [
        "#羅吉斯回歸"
      ]
    },
    {
      "cell_type": "code",
      "metadata": {
        "id": "XVyvZuWi4JGm",
        "colab": {
          "base_uri": "https://localhost:8080/"
        },
        "outputId": "0120edbb-25e4-4bf3-f91d-45e6f667aace"
      },
      "source": [
        "from sklearn.linear_model import LogisticRegression\n",
        "LR = LogisticRegression()\n",
        "LR.fit(X_train, y_train)"
      ],
      "execution_count": null,
      "outputs": [
        {
          "output_type": "execute_result",
          "data": {
            "text/plain": [
              "LogisticRegression()"
            ]
          },
          "metadata": {},
          "execution_count": 20
        }
      ]
    },
    {
      "cell_type": "code",
      "metadata": {
        "colab": {
          "base_uri": "https://localhost:8080/",
          "height": 500
        },
        "id": "VVpR2nfY43i2",
        "outputId": "d21a7e36-8e0d-4ba9-a179-b68ec1463d86"
      },
      "source": [
        "pre_test_prob=pd.DataFrame(LR.predict_proba(X_test))\n",
        "from sklearn.metrics import confusion_matrix\n",
        "tp_list = []\n",
        "fn_list = []\n",
        "for i in range(1000):\n",
        "  pre_test=pre_test_prob[0].apply(lambda x: 0 if x*1000>i else 1)\n",
        "  tp = confusion_matrix(pre_test,y_test)[0,0]\n",
        "  fn = confusion_matrix(pre_test,y_test)[1,1]\n",
        "  tp_precision = tp/(tp+fn)\n",
        "  fn_precision = fn/(tp+fn)\n",
        "  # print(tp_precision,fn_precision)\n",
        "  if -0.01< tp_precision-fn_precision <0.01:\n",
        "    print(i/1000)\n",
        "  else:\n",
        "    pass\n",
        "  tp_list.append(tp_precision)\n",
        "  fn_list.append(fn_precision)\n",
        "plt.plot([i for i in range(1,1001)], tp_list, 'k--+')   \n",
        "plt.plot([i for i in range(1,1001)], fn_list, 'r:')\n"
      ],
      "execution_count": null,
      "outputs": [
        {
          "output_type": "execute_result",
          "data": {
            "text/plain": [
              "[<matplotlib.lines.Line2D at 0x7fc1f0e02610>]"
            ]
          },
          "metadata": {},
          "execution_count": 21
        },
        {
          "output_type": "display_data",
          "data": {
            "image/png": "[encoded data removed]",
            "text/plain": [
              "<Figure size 1080x576 with 1 Axes>"
            ]
          },
          "metadata": {
            "needs_background": "light"
          }
        }
      ]
    },
    {
      "cell_type": "code",
      "metadata": {
        "id": "llsOt1Q8FOTm"
      },
      "source": [
        "p = 0.045\n",
        "pre_t=pre_test_prob[0].apply(lambda x: 0 if x>p else 1)"
      ],
      "execution_count": null,
      "outputs": []
    },
    {
      "cell_type": "code",
      "metadata": {
        "colab": {
          "base_uri": "https://localhost:8080/"
        },
        "id": "uy1sUvIC4WMq",
        "outputId": "d27aa154-bc7f-43d5-aec7-6ae524d38246"
      },
      "source": [
        "#計算正確率、精準度、召回率及綜合指標f1(train訓練集)\n",
        "from sklearn.metrics import classification_report,confusion_matrix\n",
        "print(metrics.classification_report(y_test,pre_t))"
      ],
      "execution_count": null,
      "outputs": [
        {
          "output_type": "stream",
          "name": "stdout",
          "text": [
            "              precision    recall  f1-score   support\n",
            "\n",
            "           0       0.18      1.00      0.31         4\n",
            "           1       1.00      0.05      0.10        19\n",
            "\n",
            "    accuracy                           0.22        23\n",
            "   macro avg       0.59      0.53      0.20        23\n",
            "weighted avg       0.86      0.22      0.14        23\n",
            "\n"
          ]
        }
      ]
    },
    {
      "cell_type": "code",
      "metadata": {
        "colab": {
          "base_uri": "https://localhost:8080/"
        },
        "id": "8jdH6YoakIBB",
        "outputId": "64cb43e5-4708-4e5a-8856-24949e0897e6"
      },
      "source": [
        "from sklearn.metrics import classification_report,confusion_matrix\n",
        "print(metrics.classification_report(y_train,LR.predict(X_train)))"
      ],
      "execution_count": null,
      "outputs": [
        {
          "output_type": "stream",
          "name": "stdout",
          "text": [
            "              precision    recall  f1-score   support\n",
            "\n",
            "           0       0.71      0.31      0.43        16\n",
            "           1       0.87      0.97      0.92        74\n",
            "\n",
            "    accuracy                           0.86        90\n",
            "   macro avg       0.79      0.64      0.68        90\n",
            "weighted avg       0.84      0.86      0.83        90\n",
            "\n"
          ]
        }
      ]
    },
    {
      "cell_type": "code",
      "metadata": {
        "colab": {
          "base_uri": "https://localhost:8080/"
        },
        "id": "E-KqccB1kII2",
        "outputId": "b3fcde76-85c7-4f2f-c509-bf0c15b6b75d"
      },
      "source": [
        "print(classification_report(y_test,LR.predict(X_test)))"
      ],
      "execution_count": null,
      "outputs": [
        {
          "output_type": "stream",
          "name": "stdout",
          "text": [
            "              precision    recall  f1-score   support\n",
            "\n",
            "           0       1.00      0.50      0.67         4\n",
            "           1       0.90      1.00      0.95        19\n",
            "\n",
            "    accuracy                           0.91        23\n",
            "   macro avg       0.95      0.75      0.81        23\n",
            "weighted avg       0.92      0.91      0.90        23\n",
            "\n"
          ]
        }
      ]
    }
  ]
}