{
  "nbformat": 4,
  "nbformat_minor": 0,
  "metadata": {
    "colab": {
      "name": "ML_作業四",
      "provenance": [],
      "collapsed_sections": []
    },
    "kernelspec": {
      "name": "python3",
      "display_name": "Python 3"
    },
    "language_info": {
      "name": "python"
    }
  },
  "cells": [
    {
      "cell_type": "code",
      "metadata": {
        "id": "xCXsjFWMj5Mh"
      },
      "source": [
        "import pandas as pd\n",
        "import numpy as np\n",
        "import random as rnd\n",
        "import seaborn as sns\n",
        "import matplotlib.font_manager as fm\n",
        "import matplotlib.pyplot as plt\n",
        "from scipy import stats\n",
        "from sklearn import preprocessing\n",
        "from random import sample\n",
        "import matplotlib.colors as pltc\n",
        "import numpy as np\n",
        "import pandas as pd\n",
        "from pandas_profiling import ProfileReport\n",
        "%matplotlib inline\n",
        "plt.rcParams['figure.figsize']=(15,8)"
      ],
      "execution_count": null,
      "outputs": []
    },
    {
      "cell_type": "code",
      "metadata": {
        "colab": {
          "base_uri": "https://localhost:8080/"
        },
        "id": "R4waUtqKmCie",
        "outputId": "700dd894-0536-4511-ce36-bd7146bb01a5"
      },
      "source": [
        "from sklearn.linear_model import LogisticRegression\n",
        "from sklearn.model_selection import train_test_split\n",
        "from sklearn.metrics import classification_report,confusion_matrix\n",
        "from sklearn.metrics import confusion_matrix\n",
        "from sklearn import metrics\n",
        "import statsmodels.api as sm "
      ],
      "execution_count": null,
      "outputs": [
        {
          "output_type": "stream",
          "name": "stderr",
          "text": [
            "/usr/local/lib/python3.7/dist-packages/statsmodels/tools/_testing.py:19: FutureWarning: pandas.util.testing is deprecated. Use the functions in the public API at pandas.testing instead.\n",
            "  import pandas.util.testing as tm\n"
          ]
        }
      ]
    },
    {
      "cell_type": "code",
      "metadata": {
        "id": "sDmn_Kd5kfRK"
      },
      "source": [
        "data=pd.read_excel('boston_house(type).xlsx')"
      ],
      "execution_count": null,
      "outputs": []
    },
    {
      "cell_type": "code",
      "metadata": {
        "colab": {
          "base_uri": "https://localhost:8080/",
          "height": 204
        },
        "id": "_WoBEVRCktaM",
        "outputId": "c6d14e70-27bc-42f8-c889-0abd9fd7748a"
      },
      "source": [
        "data.head()"
      ],
      "execution_count": null,
      "outputs": [
        {
          "output_type": "execute_result",
          "data": {
            "text/html": [
              "<div>\n",
              "<style scoped>\n",
              "    .dataframe tbody tr th:only-of-type {\n",
              "        vertical-align: middle;\n",
              "    }\n",
              "\n",
              "    .dataframe tbody tr th {\n",
              "        vertical-align: top;\n",
              "    }\n",
              "\n",
              "    .dataframe thead th {\n",
              "        text-align: right;\n",
              "    }\n",
              "</style>\n",
              "<table border=\"1\" class=\"dataframe\">\n",
              "  <thead>\n",
              "    <tr style=\"text-align: right;\">\n",
              "      <th></th>\n",
              "      <th>Unnamed: 0</th>\n",
              "      <th>CRIM</th>\n",
              "      <th>ZN</th>\n",
              "      <th>INDUS</th>\n",
              "      <th>CHAS</th>\n",
              "      <th>NOX</th>\n",
              "      <th>RM</th>\n",
              "      <th>AGE</th>\n",
              "      <th>DIS</th>\n",
              "      <th>RAD</th>\n",
              "      <th>TAX</th>\n",
              "      <th>PTRATIO</th>\n",
              "      <th>B</th>\n",
              "      <th>LSTAT</th>\n",
              "      <th>PRICE</th>\n",
              "      <th>PRICE TYPE</th>\n",
              "    </tr>\n",
              "  </thead>\n",
              "  <tbody>\n",
              "    <tr>\n",
              "      <th>0</th>\n",
              "      <td>0</td>\n",
              "      <td>0.00632</td>\n",
              "      <td>18.0</td>\n",
              "      <td>2.31</td>\n",
              "      <td>0</td>\n",
              "      <td>0.538</td>\n",
              "      <td>6.575</td>\n",
              "      <td>65.2</td>\n",
              "      <td>4.0900</td>\n",
              "      <td>1</td>\n",
              "      <td>296</td>\n",
              "      <td>15.3</td>\n",
              "      <td>396.90</td>\n",
              "      <td>4.98</td>\n",
              "      <td>24.0</td>\n",
              "      <td>2</td>\n",
              "    </tr>\n",
              "    <tr>\n",
              "      <th>1</th>\n",
              "      <td>1</td>\n",
              "      <td>0.02731</td>\n",
              "      <td>0.0</td>\n",
              "      <td>7.07</td>\n",
              "      <td>0</td>\n",
              "      <td>0.469</td>\n",
              "      <td>6.421</td>\n",
              "      <td>78.9</td>\n",
              "      <td>4.9671</td>\n",
              "      <td>2</td>\n",
              "      <td>242</td>\n",
              "      <td>17.8</td>\n",
              "      <td>396.90</td>\n",
              "      <td>9.14</td>\n",
              "      <td>21.6</td>\n",
              "      <td>2</td>\n",
              "    </tr>\n",
              "    <tr>\n",
              "      <th>2</th>\n",
              "      <td>2</td>\n",
              "      <td>0.02729</td>\n",
              "      <td>0.0</td>\n",
              "      <td>7.07</td>\n",
              "      <td>0</td>\n",
              "      <td>0.469</td>\n",
              "      <td>7.185</td>\n",
              "      <td>61.1</td>\n",
              "      <td>4.9671</td>\n",
              "      <td>2</td>\n",
              "      <td>242</td>\n",
              "      <td>17.8</td>\n",
              "      <td>392.83</td>\n",
              "      <td>4.03</td>\n",
              "      <td>34.7</td>\n",
              "      <td>2</td>\n",
              "    </tr>\n",
              "    <tr>\n",
              "      <th>3</th>\n",
              "      <td>3</td>\n",
              "      <td>0.03237</td>\n",
              "      <td>0.0</td>\n",
              "      <td>2.18</td>\n",
              "      <td>0</td>\n",
              "      <td>0.458</td>\n",
              "      <td>6.998</td>\n",
              "      <td>45.8</td>\n",
              "      <td>6.0622</td>\n",
              "      <td>3</td>\n",
              "      <td>222</td>\n",
              "      <td>18.7</td>\n",
              "      <td>394.63</td>\n",
              "      <td>2.94</td>\n",
              "      <td>33.4</td>\n",
              "      <td>2</td>\n",
              "    </tr>\n",
              "    <tr>\n",
              "      <th>4</th>\n",
              "      <td>4</td>\n",
              "      <td>0.06905</td>\n",
              "      <td>0.0</td>\n",
              "      <td>2.18</td>\n",
              "      <td>0</td>\n",
              "      <td>0.458</td>\n",
              "      <td>7.147</td>\n",
              "      <td>54.2</td>\n",
              "      <td>6.0622</td>\n",
              "      <td>3</td>\n",
              "      <td>222</td>\n",
              "      <td>18.7</td>\n",
              "      <td>396.90</td>\n",
              "      <td>5.33</td>\n",
              "      <td>36.2</td>\n",
              "      <td>2</td>\n",
              "    </tr>\n",
              "  </tbody>\n",
              "</table>\n",
              "</div>"
            ],
            "text/plain": [
              "   Unnamed: 0     CRIM    ZN  INDUS  ...       B  LSTAT  PRICE  PRICE TYPE\n",
              "0           0  0.00632  18.0   2.31  ...  396.90   4.98   24.0           2\n",
              "1           1  0.02731   0.0   7.07  ...  396.90   9.14   21.6           2\n",
              "2           2  0.02729   0.0   7.07  ...  392.83   4.03   34.7           2\n",
              "3           3  0.03237   0.0   2.18  ...  394.63   2.94   33.4           2\n",
              "4           4  0.06905   0.0   2.18  ...  396.90   5.33   36.2           2\n",
              "\n",
              "[5 rows x 16 columns]"
            ]
          },
          "metadata": {},
          "execution_count": 4
        }
      ]
    },
    {
      "cell_type": "code",
      "metadata": {
        "colab": {
          "base_uri": "https://localhost:8080/"
        },
        "id": "zAoOwNjYnVIA",
        "outputId": "7af3aca5-bd3e-4f00-ca30-c49359c9f9ff"
      },
      "source": [
        "data.info()"
      ],
      "execution_count": null,
      "outputs": [
        {
          "output_type": "stream",
          "name": "stdout",
          "text": [
            "<class 'pandas.core.frame.DataFrame'>\n",
            "RangeIndex: 506 entries, 0 to 505\n",
            "Data columns (total 16 columns):\n",
            " #   Column      Non-Null Count  Dtype  \n",
            "---  ------      --------------  -----  \n",
            " 0   Unnamed: 0  506 non-null    int64  \n",
            " 1   CRIM        506 non-null    float64\n",
            " 2   ZN          506 non-null    float64\n",
            " 3   INDUS       506 non-null    float64\n",
            " 4   CHAS        506 non-null    int64  \n",
            " 5   NOX         506 non-null    float64\n",
            " 6   RM          506 non-null    float64\n",
            " 7   AGE         506 non-null    float64\n",
            " 8   DIS         506 non-null    float64\n",
            " 9   RAD         506 non-null    int64  \n",
            " 10  TAX         506 non-null    int64  \n",
            " 11  PTRATIO     506 non-null    float64\n",
            " 12  B           506 non-null    float64\n",
            " 13  LSTAT       506 non-null    float64\n",
            " 14  PRICE       506 non-null    float64\n",
            " 15  PRICE TYPE  506 non-null    int64  \n",
            "dtypes: float64(11), int64(5)\n",
            "memory usage: 63.4 KB\n"
          ]
        }
      ]
    },
    {
      "cell_type": "code",
      "metadata": {
        "id": "o5eASbIlm9HQ"
      },
      "source": [
        "data['PRICE TYPE'] = data['PRICE TYPE'].apply(lambda x:0 if x == 1 else 1)"
      ],
      "execution_count": null,
      "outputs": []
    },
    {
      "cell_type": "code",
      "metadata": {
        "id": "SxE8y7StkyGP"
      },
      "source": [
        "y = data[\"PRICE TYPE\"]\n",
        "X = data.drop([\"Unnamed: 0\",\"PRICE TYPE\",\"PRICE\"],axis = 1)"
      ],
      "execution_count": null,
      "outputs": []
    },
    {
      "cell_type": "code",
      "metadata": {
        "colab": {
          "base_uri": "https://localhost:8080/"
        },
        "id": "v3GbUTA-lkgh",
        "outputId": "26bdd45d-5ef6-4a39-dc69-3b2d99797409"
      },
      "source": [
        "X_train, X_test, y_train, y_test = train_test_split(X,y,test_size=0.4,random_state=5)\n",
        "\n",
        "LR = LogisticRegression()\n",
        "LR.fit(X_train, y_train)"
      ],
      "execution_count": null,
      "outputs": [
        {
          "output_type": "stream",
          "name": "stderr",
          "text": [
            "/usr/local/lib/python3.7/dist-packages/sklearn/linear_model/_logistic.py:940: ConvergenceWarning: lbfgs failed to converge (status=1):\n",
            "STOP: TOTAL NO. of ITERATIONS REACHED LIMIT.\n",
            "\n",
            "Increase the number of iterations (max_iter) or scale the data as shown in:\n",
            "    https://scikit-learn.org/stable/modules/preprocessing.html\n",
            "Please also refer to the documentation for alternative solver options:\n",
            "    https://scikit-learn.org/stable/modules/linear_model.html#logistic-regression\n",
            "  extra_warning_msg=_LOGISTIC_SOLVER_CONVERGENCE_MSG)\n"
          ]
        },
        {
          "output_type": "execute_result",
          "data": {
            "text/plain": [
              "LogisticRegression(C=1.0, class_weight=None, dual=False, fit_intercept=True,\n",
              "                   intercept_scaling=1, l1_ratio=None, max_iter=100,\n",
              "                   multi_class='auto', n_jobs=None, penalty='l2',\n",
              "                   random_state=None, solver='lbfgs', tol=0.0001, verbose=0,\n",
              "                   warm_start=False)"
            ]
          },
          "metadata": {},
          "execution_count": 8
        }
      ]
    },
    {
      "cell_type": "code",
      "metadata": {
        "colab": {
          "base_uri": "https://localhost:8080/"
        },
        "id": "AKFsK1zElpHT",
        "outputId": "ffa70764-7656-4857-e47b-2a0be2f3bd12"
      },
      "source": [
        "LR_pred= LR.predict(X_train)\n",
        "print(confusion_matrix(y_train,LR_pred))\n",
        "print(\"======================================================\\n\")\n",
        "print(classification_report(y_train,LR_pred))"
      ],
      "execution_count": null,
      "outputs": [
        {
          "output_type": "stream",
          "name": "stdout",
          "text": [
            "[[104  21]\n",
            " [ 15 163]]\n",
            "======================================================\n",
            "\n",
            "              precision    recall  f1-score   support\n",
            "\n",
            "           0       0.87      0.83      0.85       125\n",
            "           1       0.89      0.92      0.90       178\n",
            "\n",
            "    accuracy                           0.88       303\n",
            "   macro avg       0.88      0.87      0.88       303\n",
            "weighted avg       0.88      0.88      0.88       303\n",
            "\n"
          ]
        }
      ]
    },
    {
      "cell_type": "code",
      "metadata": {
        "colab": {
          "base_uri": "https://localhost:8080/"
        },
        "id": "P9MUVT2SlvY_",
        "outputId": "fde1eb61-344c-49a0-f60c-c369fae8e1c6"
      },
      "source": [
        "LR_pred= LR.predict(X_test)\n",
        "print(confusion_matrix(y_test,LR_pred))\n",
        "print(\"======================================================\\n\")\n",
        "print(classification_report(y_test,LR_pred))"
      ],
      "execution_count": null,
      "outputs": [
        {
          "output_type": "stream",
          "name": "stdout",
          "text": [
            "[[ 72  18]\n",
            " [ 11 102]]\n",
            "======================================================\n",
            "\n",
            "              precision    recall  f1-score   support\n",
            "\n",
            "           0       0.87      0.80      0.83        90\n",
            "           1       0.85      0.90      0.88       113\n",
            "\n",
            "    accuracy                           0.86       203\n",
            "   macro avg       0.86      0.85      0.85       203\n",
            "weighted avg       0.86      0.86      0.86       203\n",
            "\n"
          ]
        }
      ]
    },
    {
      "cell_type": "code",
      "metadata": {
        "id": "wj2nlQFLm6Wq"
      },
      "source": [
        "from sklearn.metrics import confusion_matrix\n",
        "pre_test_prob=pd.DataFrame(LR.predict_proba(X_test))"
      ],
      "execution_count": null,
      "outputs": []
    },
    {
      "cell_type": "code",
      "metadata": {
        "colab": {
          "base_uri": "https://localhost:8080/",
          "height": 517
        },
        "id": "Ci-sdV5tlxq-",
        "outputId": "9f4e4d37-a170-423f-a69c-3409415fc98e"
      },
      "source": [
        "tp_p_list = []\n",
        "fn_p_list = []\n",
        "for i in range(1000):\n",
        "  pre_test=pre_test_prob[0].apply(lambda x: 0 if x*1000>i else 1)\n",
        "  tp = confusion_matrix(pre_test,y_test)[0,0]\n",
        "  fn = confusion_matrix(pre_test,y_test)[1,1]\n",
        "  tp_precision = tp/(tp+fn)\n",
        "  fn_precision = fn/(tp+fn)    \n",
        "  if -0.001< (tp/(tp+fn))-(fn/(tp+fn)) <0.001:\n",
        "    print(i/1000)\n",
        "  else:\n",
        "    pass\n",
        "  tp_p_list.append(tp_precision)\n",
        "  fn_p_list.append(fn_precision)\n",
        "plt.plot([i for i in range(1,1001)], tp_p_list, 'g:')   \n",
        "plt.plot([i for i in range(1,1001)], fn_p_list, 'r:')\n"
      ],
      "execution_count": null,
      "outputs": [
        {
          "output_type": "stream",
          "name": "stdout",
          "text": [
            "0.216\n"
          ]
        },
        {
          "output_type": "execute_result",
          "data": {
            "text/plain": [
              "[<matplotlib.lines.Line2D at 0x7fbfb2b11fd0>]"
            ]
          },
          "metadata": {},
          "execution_count": 40
        },
        {
          "output_type": "display_data",
          "data": {
            "image/png": "[encoded data removed]",
            "text/plain": [
              "<Figure size 1080x576 with 1 Axes>"
            ]
          },
          "metadata": {
            "needs_background": "light"
          }
        }
      ]
    },
    {
      "cell_type": "code",
      "metadata": {
        "id": "9kLjDYlOp3Ig"
      },
      "source": [
        "p = 0.216\n",
        "pre_t=pre_test_prob[0].apply(lambda x: 0 if x>p else 1)"
      ],
      "execution_count": null,
      "outputs": []
    },
    {
      "cell_type": "code",
      "metadata": {
        "colab": {
          "base_uri": "https://localhost:8080/"
        },
        "id": "KDVbDNp-zAaj",
        "outputId": "7a0393f4-ed6e-400b-9e02-322edae8a866"
      },
      "source": [
        "from sklearn import metrics\n",
        "print(metrics.classification_report(y_test,pre_t))"
      ],
      "execution_count": null,
      "outputs": [
        {
          "output_type": "stream",
          "name": "stdout",
          "text": [
            "              precision    recall  f1-score   support\n",
            "\n",
            "           0       0.75      0.94      0.84        90\n",
            "           1       0.94      0.75      0.84       113\n",
            "\n",
            "    accuracy                           0.84       203\n",
            "   macro avg       0.85      0.85      0.84       203\n",
            "weighted avg       0.86      0.84      0.84       203\n",
            "\n"
          ]
        }
      ]
    },
    {
      "cell_type": "code",
      "metadata": {
        "id": "X-qUr0QIuOJj"
      },
      "source": [
        "#載入統計分析模型套件，定義自變數與依變數\n",
        "import statsmodels.api as sm \n",
        "import pandas as pd  \n",
        "# defining the dependent and independent variables \n",
        "ytrain = data[\"PRICE TYPE\"] \n",
        "Xtrain = data.drop([\"Unnamed: 0\",\"PRICE TYPE\",\"PRICE\"],axis = 1) "
      ],
      "execution_count": null,
      "outputs": []
    },
    {
      "cell_type": "code",
      "metadata": {
        "colab": {
          "base_uri": "https://localhost:8080/"
        },
        "id": "nZhOEEg8l1tz",
        "outputId": "c0445daa-c746-4b5a-8282-32dd9dcc7c4d"
      },
      "source": [
        "log_reg = sm.Logit(ytrain, Xtrain).fit() \n",
        "print(log_reg.summary())"
      ],
      "execution_count": null,
      "outputs": [
        {
          "output_type": "stream",
          "name": "stdout",
          "text": [
            "Optimization terminated successfully.\n",
            "         Current function value: 0.267790\n",
            "         Iterations 9\n",
            "                           Logit Regression Results                           \n",
            "==============================================================================\n",
            "Dep. Variable:             PRICE TYPE   No. Observations:                  506\n",
            "Model:                          Logit   Df Residuals:                      493\n",
            "Method:                           MLE   Df Model:                           12\n",
            "Date:                Wed, 10 Nov 2021   Pseudo R-squ.:                  0.6072\n",
            "Time:                        12:23:08   Log-Likelihood:                -135.50\n",
            "converged:                       True   LL-Null:                       -345.00\n",
            "Covariance Type:            nonrobust   LLR p-value:                 3.562e-82\n",
            "==============================================================================\n",
            "                 coef    std err          z      P>|z|      [0.025      0.975]\n",
            "------------------------------------------------------------------------------\n",
            "CRIM          -0.0829      0.074     -1.126      0.260      -0.227       0.061\n",
            "ZN             0.0204      0.015      1.396      0.163      -0.008       0.049\n",
            "INDUS          0.1157      0.042      2.723      0.006       0.032       0.199\n",
            "CHAS           1.6350      0.694      2.354      0.019       0.274       2.996\n",
            "NOX           -4.8158      2.464     -1.954      0.051      -9.646       0.014\n",
            "RM             2.0203      0.337      6.000      0.000       1.360       2.680\n",
            "AGE           -0.0401      0.011     -3.725      0.000      -0.061      -0.019\n",
            "DIS           -0.5294      0.160     -3.308      0.001      -0.843      -0.216\n",
            "RAD            0.1650      0.052      3.202      0.001       0.064       0.266\n",
            "TAX           -0.0084      0.003     -3.045      0.002      -0.014      -0.003\n",
            "PTRATIO       -0.1818      0.084     -2.162      0.031      -0.347      -0.017\n",
            "B              0.0084      0.003      2.842      0.004       0.003       0.014\n",
            "LSTAT         -0.2933      0.048     -6.055      0.000      -0.388      -0.198\n",
            "==============================================================================\n"
          ]
        }
      ]
    }
  ]
}