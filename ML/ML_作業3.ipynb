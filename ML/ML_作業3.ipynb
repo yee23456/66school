{
  "nbformat": 4,
  "nbformat_minor": 0,
  "metadata": {
    "colab": {
      "name": "ML_作業三",
      "provenance": [],
      "collapsed_sections": []
    },
    "kernelspec": {
      "name": "python3",
      "display_name": "Python 3"
    },
    "language_info": {
      "name": "python"
    }
  },
  "cells": [
    {
      "cell_type": "markdown",
      "metadata": {
        "id": "ZNqcrAvXr0lI"
      },
      "source": [
        "#LDA"
      ]
    },
    {
      "cell_type": "code",
      "metadata": {
        "colab": {
          "base_uri": "https://localhost:8080/",
          "height": 244
        },
        "id": "ydxjGwzBpcgv",
        "outputId": "a78d0117-2a7a-45fb-fcd9-9100ce89a7aa"
      },
      "source": [
        "import pandas as pd\n",
        "df=pd.read_excel('boston_house(type).xlsx')\n",
        "df.head(5)"
      ],
      "execution_count": null,
      "outputs": [
        {
          "output_type": "execute_result",
          "data": {
            "text/html": [
              "<div>\n",
              "<style scoped>\n",
              "    .dataframe tbody tr th:only-of-type {\n",
              "        vertical-align: middle;\n",
              "    }\n",
              "\n",
              "    .dataframe tbody tr th {\n",
              "        vertical-align: top;\n",
              "    }\n",
              "\n",
              "    .dataframe thead th {\n",
              "        text-align: right;\n",
              "    }\n",
              "</style>\n",
              "<table border=\"1\" class=\"dataframe\">\n",
              "  <thead>\n",
              "    <tr style=\"text-align: right;\">\n",
              "      <th></th>\n",
              "      <th>Unnamed: 0</th>\n",
              "      <th>CRIM</th>\n",
              "      <th>ZN</th>\n",
              "      <th>INDUS</th>\n",
              "      <th>CHAS</th>\n",
              "      <th>NOX</th>\n",
              "      <th>RM</th>\n",
              "      <th>AGE</th>\n",
              "      <th>DIS</th>\n",
              "      <th>RAD</th>\n",
              "      <th>TAX</th>\n",
              "      <th>PTRATIO</th>\n",
              "      <th>B</th>\n",
              "      <th>LSTAT</th>\n",
              "      <th>PRICE</th>\n",
              "      <th>PRICE TYPE</th>\n",
              "    </tr>\n",
              "  </thead>\n",
              "  <tbody>\n",
              "    <tr>\n",
              "      <th>0</th>\n",
              "      <td>0</td>\n",
              "      <td>0.00632</td>\n",
              "      <td>18.0</td>\n",
              "      <td>2.31</td>\n",
              "      <td>0</td>\n",
              "      <td>0.538</td>\n",
              "      <td>6.575</td>\n",
              "      <td>65.2</td>\n",
              "      <td>4.0900</td>\n",
              "      <td>1</td>\n",
              "      <td>296</td>\n",
              "      <td>15.3</td>\n",
              "      <td>396.90</td>\n",
              "      <td>4.98</td>\n",
              "      <td>24.0</td>\n",
              "      <td>2</td>\n",
              "    </tr>\n",
              "    <tr>\n",
              "      <th>1</th>\n",
              "      <td>1</td>\n",
              "      <td>0.02731</td>\n",
              "      <td>0.0</td>\n",
              "      <td>7.07</td>\n",
              "      <td>0</td>\n",
              "      <td>0.469</td>\n",
              "      <td>6.421</td>\n",
              "      <td>78.9</td>\n",
              "      <td>4.9671</td>\n",
              "      <td>2</td>\n",
              "      <td>242</td>\n",
              "      <td>17.8</td>\n",
              "      <td>396.90</td>\n",
              "      <td>9.14</td>\n",
              "      <td>21.6</td>\n",
              "      <td>2</td>\n",
              "    </tr>\n",
              "    <tr>\n",
              "      <th>2</th>\n",
              "      <td>2</td>\n",
              "      <td>0.02729</td>\n",
              "      <td>0.0</td>\n",
              "      <td>7.07</td>\n",
              "      <td>0</td>\n",
              "      <td>0.469</td>\n",
              "      <td>7.185</td>\n",
              "      <td>61.1</td>\n",
              "      <td>4.9671</td>\n",
              "      <td>2</td>\n",
              "      <td>242</td>\n",
              "      <td>17.8</td>\n",
              "      <td>392.83</td>\n",
              "      <td>4.03</td>\n",
              "      <td>34.7</td>\n",
              "      <td>2</td>\n",
              "    </tr>\n",
              "    <tr>\n",
              "      <th>3</th>\n",
              "      <td>3</td>\n",
              "      <td>0.03237</td>\n",
              "      <td>0.0</td>\n",
              "      <td>2.18</td>\n",
              "      <td>0</td>\n",
              "      <td>0.458</td>\n",
              "      <td>6.998</td>\n",
              "      <td>45.8</td>\n",
              "      <td>6.0622</td>\n",
              "      <td>3</td>\n",
              "      <td>222</td>\n",
              "      <td>18.7</td>\n",
              "      <td>394.63</td>\n",
              "      <td>2.94</td>\n",
              "      <td>33.4</td>\n",
              "      <td>2</td>\n",
              "    </tr>\n",
              "    <tr>\n",
              "      <th>4</th>\n",
              "      <td>4</td>\n",
              "      <td>0.06905</td>\n",
              "      <td>0.0</td>\n",
              "      <td>2.18</td>\n",
              "      <td>0</td>\n",
              "      <td>0.458</td>\n",
              "      <td>7.147</td>\n",
              "      <td>54.2</td>\n",
              "      <td>6.0622</td>\n",
              "      <td>3</td>\n",
              "      <td>222</td>\n",
              "      <td>18.7</td>\n",
              "      <td>396.90</td>\n",
              "      <td>5.33</td>\n",
              "      <td>36.2</td>\n",
              "      <td>2</td>\n",
              "    </tr>\n",
              "  </tbody>\n",
              "</table>\n",
              "</div>"
            ],
            "text/plain": [
              "   Unnamed: 0     CRIM    ZN  INDUS  ...       B  LSTAT  PRICE  PRICE TYPE\n",
              "0           0  0.00632  18.0   2.31  ...  396.90   4.98   24.0           2\n",
              "1           1  0.02731   0.0   7.07  ...  396.90   9.14   21.6           2\n",
              "2           2  0.02729   0.0   7.07  ...  392.83   4.03   34.7           2\n",
              "3           3  0.03237   0.0   2.18  ...  394.63   2.94   33.4           2\n",
              "4           4  0.06905   0.0   2.18  ...  396.90   5.33   36.2           2\n",
              "\n",
              "[5 rows x 16 columns]"
            ]
          },
          "metadata": {},
          "execution_count": 1
        }
      ]
    },
    {
      "cell_type": "code",
      "metadata": {
        "colab": {
          "base_uri": "https://localhost:8080/"
        },
        "id": "-aQNLLzlptA_",
        "outputId": "6a299e94-97bf-411d-92b1-ecfba2b58e10"
      },
      "source": [
        "y = df['PRICE TYPE']\n",
        "X = df.drop(['Unnamed: 0','PRICE TYPE','PRICE'],axis = 1)\n",
        "from sklearn.model_selection import train_test_split\n",
        "X_train, X_test,y_train,y_test = train_test_split(X,y,test_size=0.25,random_state=5)\n",
        "\n",
        "from sklearn.discriminant_analysis import LinearDiscriminantAnalysis\n",
        "LDA = LinearDiscriminantAnalysis()\n",
        "LDA.fit(X_train,y_train)\n",
        "\n",
        "from sklearn.metrics import classification_report,confusion_matrix\n",
        "LDA_tpred= LDA.predict(X_train)\n",
        "print(confusion_matrix(y_train,LDA_tpred))\n",
        "print(\"======================================================\\n\")\n",
        "print(classification_report(y_train,LDA_tpred))"
      ],
      "execution_count": null,
      "outputs": [
        {
          "output_type": "stream",
          "name": "stdout",
          "text": [
            "[[132  26]\n",
            " [ 20 201]]\n",
            "======================================================\n",
            "\n",
            "              precision    recall  f1-score   support\n",
            "\n",
            "           1       0.87      0.84      0.85       158\n",
            "           2       0.89      0.91      0.90       221\n",
            "\n",
            "    accuracy                           0.88       379\n",
            "   macro avg       0.88      0.87      0.87       379\n",
            "weighted avg       0.88      0.88      0.88       379\n",
            "\n"
          ]
        }
      ]
    },
    {
      "cell_type": "code",
      "metadata": {
        "colab": {
          "base_uri": "https://localhost:8080/"
        },
        "id": "pUYJJvMopsUZ",
        "outputId": "7992f80c-48c8-4047-b0c9-fa198edc4f30"
      },
      "source": [
        "LDA_pred= LDA.predict(X_test)\n",
        "print(confusion_matrix(y_test,LDA_pred))\n",
        "print(\"======================================================\\n\")\n",
        "print(classification_report(y_test,LDA_pred))"
      ],
      "execution_count": null,
      "outputs": [
        {
          "output_type": "stream",
          "name": "stdout",
          "text": [
            "[[48  9]\n",
            " [ 6 64]]\n",
            "======================================================\n",
            "\n",
            "              precision    recall  f1-score   support\n",
            "\n",
            "           1       0.89      0.84      0.86        57\n",
            "           2       0.88      0.91      0.90        70\n",
            "\n",
            "    accuracy                           0.88       127\n",
            "   macro avg       0.88      0.88      0.88       127\n",
            "weighted avg       0.88      0.88      0.88       127\n",
            "\n"
          ]
        }
      ]
    },
    {
      "cell_type": "markdown",
      "metadata": {
        "id": "Q_GuIo5Vrk_f"
      },
      "source": [
        "#SVM"
      ]
    },
    {
      "cell_type": "code",
      "metadata": {
        "colab": {
          "base_uri": "https://localhost:8080/"
        },
        "id": "u8wPSnTRrYMR",
        "outputId": "7996a63b-2383-426f-bdf6-1e7e36a13b7d"
      },
      "source": [
        "y = df['PRICE TYPE']\n",
        "X = df.drop(['PRICE','Unnamed: 0','PRICE TYPE'],axis = 1)\n",
        "from sklearn.model_selection import train_test_split\n",
        "X_train, X_test,y_train,y_test = train_test_split(X,y,test_size=0.25,random_state=5)\n",
        "\n",
        "from sklearn import svm \n",
        "clf = svm.SVC(kernel = 'linear') \n",
        "clf.fit(X_train,y_train) \n",
        "\n",
        "from sklearn.metrics import classification_report,confusion_matrix\n",
        "clf_tpred= clf.predict(X_train)\n",
        "print(confusion_matrix(y_train,clf_tpred))\n",
        "print(\"======================================================\\n\")\n",
        "print(classification_report(y_train,clf_tpred))"
      ],
      "execution_count": null,
      "outputs": [
        {
          "output_type": "stream",
          "name": "stdout",
          "text": [
            "[[135  23]\n",
            " [ 14 207]]\n",
            "======================================================\n",
            "\n",
            "              precision    recall  f1-score   support\n",
            "\n",
            "           1       0.91      0.85      0.88       158\n",
            "           2       0.90      0.94      0.92       221\n",
            "\n",
            "    accuracy                           0.90       379\n",
            "   macro avg       0.90      0.90      0.90       379\n",
            "weighted avg       0.90      0.90      0.90       379\n",
            "\n"
          ]
        }
      ]
    },
    {
      "cell_type": "code",
      "metadata": {
        "colab": {
          "base_uri": "https://localhost:8080/"
        },
        "id": "KHqqvyJlrprY",
        "outputId": "c30f0037-1ae8-429d-ed1b-3b59174e1255"
      },
      "source": [
        "clf_pred= clf.predict(X_test)\n",
        "print(confusion_matrix(y_test,clf_pred))\n",
        "print(\"======================================================\\n\")\n",
        "print(classification_report(y_test,clf_pred))"
      ],
      "execution_count": null,
      "outputs": [
        {
          "output_type": "stream",
          "name": "stdout",
          "text": [
            "[[47 10]\n",
            " [ 6 64]]\n",
            "======================================================\n",
            "\n",
            "              precision    recall  f1-score   support\n",
            "\n",
            "           1       0.89      0.82      0.85        57\n",
            "           2       0.86      0.91      0.89        70\n",
            "\n",
            "    accuracy                           0.87       127\n",
            "   macro avg       0.88      0.87      0.87       127\n",
            "weighted avg       0.87      0.87      0.87       127\n",
            "\n"
          ]
        }
      ]
    }
  ]
}