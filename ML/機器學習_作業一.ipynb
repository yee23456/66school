{
  "nbformat": 4,
  "nbformat_minor": 0,
  "metadata": {
    "colab": {
      "name": "機器學習 作業一",
      "provenance": [],
      "collapsed_sections": []
    },
    "kernelspec": {
      "name": "python3",
      "display_name": "Python 3"
    },
    "language_info": {
      "name": "python"
    }
  },
  "cells": [
    {
      "cell_type": "markdown",
      "metadata": {
        "id": "yMMeClCvu3ZJ"
      },
      "source": [
        "#作業\n"
      ]
    },
    {
      "cell_type": "code",
      "metadata": {
        "id": "KRYWqg2DlGOl"
      },
      "source": [
        "import pandas as pd\n",
        "import numpy as np\n",
        "df=pd.read_excel('boston_house(type).xlsx')"
      ],
      "execution_count": null,
      "outputs": []
    },
    {
      "cell_type": "code",
      "metadata": {
        "colab": {
          "base_uri": "https://localhost:8080/",
          "height": 205
        },
        "id": "CmaFNZPqlXuw",
        "outputId": "9956c071-9735-4cfe-bb0d-10b907c15c68"
      },
      "source": [
        "df.head()"
      ],
      "execution_count": null,
      "outputs": [
        {
          "output_type": "execute_result",
          "data": {
            "text/html": [
              "<div>\n",
              "<style scoped>\n",
              "    .dataframe tbody tr th:only-of-type {\n",
              "        vertical-align: middle;\n",
              "    }\n",
              "\n",
              "    .dataframe tbody tr th {\n",
              "        vertical-align: top;\n",
              "    }\n",
              "\n",
              "    .dataframe thead th {\n",
              "        text-align: right;\n",
              "    }\n",
              "</style>\n",
              "<table border=\"1\" class=\"dataframe\">\n",
              "  <thead>\n",
              "    <tr style=\"text-align: right;\">\n",
              "      <th></th>\n",
              "      <th>Unnamed: 0</th>\n",
              "      <th>CRIM</th>\n",
              "      <th>ZN</th>\n",
              "      <th>INDUS</th>\n",
              "      <th>CHAS</th>\n",
              "      <th>NOX</th>\n",
              "      <th>RM</th>\n",
              "      <th>AGE</th>\n",
              "      <th>DIS</th>\n",
              "      <th>RAD</th>\n",
              "      <th>TAX</th>\n",
              "      <th>PTRATIO</th>\n",
              "      <th>B</th>\n",
              "      <th>LSTAT</th>\n",
              "      <th>PRICE</th>\n",
              "      <th>PRICE TYPE</th>\n",
              "    </tr>\n",
              "  </thead>\n",
              "  <tbody>\n",
              "    <tr>\n",
              "      <th>0</th>\n",
              "      <td>0</td>\n",
              "      <td>0.00632</td>\n",
              "      <td>18.0</td>\n",
              "      <td>2.31</td>\n",
              "      <td>0</td>\n",
              "      <td>0.538</td>\n",
              "      <td>6.575</td>\n",
              "      <td>65.2</td>\n",
              "      <td>4.0900</td>\n",
              "      <td>1</td>\n",
              "      <td>296</td>\n",
              "      <td>15.3</td>\n",
              "      <td>396.90</td>\n",
              "      <td>4.98</td>\n",
              "      <td>24.0</td>\n",
              "      <td>2</td>\n",
              "    </tr>\n",
              "    <tr>\n",
              "      <th>1</th>\n",
              "      <td>1</td>\n",
              "      <td>0.02731</td>\n",
              "      <td>0.0</td>\n",
              "      <td>7.07</td>\n",
              "      <td>0</td>\n",
              "      <td>0.469</td>\n",
              "      <td>6.421</td>\n",
              "      <td>78.9</td>\n",
              "      <td>4.9671</td>\n",
              "      <td>2</td>\n",
              "      <td>242</td>\n",
              "      <td>17.8</td>\n",
              "      <td>396.90</td>\n",
              "      <td>9.14</td>\n",
              "      <td>21.6</td>\n",
              "      <td>2</td>\n",
              "    </tr>\n",
              "    <tr>\n",
              "      <th>2</th>\n",
              "      <td>2</td>\n",
              "      <td>0.02729</td>\n",
              "      <td>0.0</td>\n",
              "      <td>7.07</td>\n",
              "      <td>0</td>\n",
              "      <td>0.469</td>\n",
              "      <td>7.185</td>\n",
              "      <td>61.1</td>\n",
              "      <td>4.9671</td>\n",
              "      <td>2</td>\n",
              "      <td>242</td>\n",
              "      <td>17.8</td>\n",
              "      <td>392.83</td>\n",
              "      <td>4.03</td>\n",
              "      <td>34.7</td>\n",
              "      <td>2</td>\n",
              "    </tr>\n",
              "    <tr>\n",
              "      <th>3</th>\n",
              "      <td>3</td>\n",
              "      <td>0.03237</td>\n",
              "      <td>0.0</td>\n",
              "      <td>2.18</td>\n",
              "      <td>0</td>\n",
              "      <td>0.458</td>\n",
              "      <td>6.998</td>\n",
              "      <td>45.8</td>\n",
              "      <td>6.0622</td>\n",
              "      <td>3</td>\n",
              "      <td>222</td>\n",
              "      <td>18.7</td>\n",
              "      <td>394.63</td>\n",
              "      <td>2.94</td>\n",
              "      <td>33.4</td>\n",
              "      <td>2</td>\n",
              "    </tr>\n",
              "    <tr>\n",
              "      <th>4</th>\n",
              "      <td>4</td>\n",
              "      <td>0.06905</td>\n",
              "      <td>0.0</td>\n",
              "      <td>2.18</td>\n",
              "      <td>0</td>\n",
              "      <td>0.458</td>\n",
              "      <td>7.147</td>\n",
              "      <td>54.2</td>\n",
              "      <td>6.0622</td>\n",
              "      <td>3</td>\n",
              "      <td>222</td>\n",
              "      <td>18.7</td>\n",
              "      <td>396.90</td>\n",
              "      <td>5.33</td>\n",
              "      <td>36.2</td>\n",
              "      <td>2</td>\n",
              "    </tr>\n",
              "  </tbody>\n",
              "</table>\n",
              "</div>"
            ],
            "text/plain": [
              "   Unnamed: 0     CRIM    ZN  INDUS  ...       B  LSTAT  PRICE  PRICE TYPE\n",
              "0           0  0.00632  18.0   2.31  ...  396.90   4.98   24.0           2\n",
              "1           1  0.02731   0.0   7.07  ...  396.90   9.14   21.6           2\n",
              "2           2  0.02729   0.0   7.07  ...  392.83   4.03   34.7           2\n",
              "3           3  0.03237   0.0   2.18  ...  394.63   2.94   33.4           2\n",
              "4           4  0.06905   0.0   2.18  ...  396.90   5.33   36.2           2\n",
              "\n",
              "[5 rows x 16 columns]"
            ]
          },
          "metadata": {},
          "execution_count": 2
        }
      ]
    },
    {
      "cell_type": "code",
      "metadata": {
        "id": "v6cCm68WlY7n"
      },
      "source": [
        "y = df['PRICE']\n",
        "X = df.drop(['Unnamed: 0', 'PRICE','PRICE TYPE','RAD'] , axis=1)       #education_years, working_years為自變數,可自行調整"
      ],
      "execution_count": null,
      "outputs": []
    },
    {
      "cell_type": "code",
      "metadata": {
        "colab": {
          "base_uri": "https://localhost:8080/"
        },
        "id": "XFh5njxet-Fg",
        "outputId": "57e1a03b-58e8-41c8-f97b-872d0453e906"
      },
      "source": [
        "import statsmodels.api as smf\n",
        "RA = smf.OLS(y,X).fit()\n",
        "print(RA.summary())"
      ],
      "execution_count": null,
      "outputs": [
        {
          "output_type": "stream",
          "name": "stderr",
          "text": [
            "/usr/local/lib/python3.7/dist-packages/statsmodels/tools/_testing.py:19: FutureWarning: pandas.util.testing is deprecated. Use the functions in the public API at pandas.testing instead.\n",
            "  import pandas.util.testing as tm\n"
          ]
        },
        {
          "output_type": "stream",
          "name": "stdout",
          "text": [
            "                                 OLS Regression Results                                \n",
            "=======================================================================================\n",
            "Dep. Variable:                  PRICE   R-squared (uncentered):                   0.959\n",
            "Model:                            OLS   Adj. R-squared (uncentered):              0.958\n",
            "Method:                 Least Squares   F-statistic:                              954.1\n",
            "Date:                Wed, 06 Oct 2021   Prob (F-statistic):                        0.00\n",
            "Time:                        13:24:26   Log-Likelihood:                         -1527.2\n",
            "No. Observations:                 506   AIC:                                      3078.\n",
            "Df Residuals:                     494   BIC:                                      3129.\n",
            "Df Model:                          12                                                  \n",
            "Covariance Type:            nonrobust                                                  \n",
            "==============================================================================\n",
            "                 coef    std err          t      P>|t|      [0.025      0.975]\n",
            "------------------------------------------------------------------------------\n",
            "CRIM          -0.0690      0.033     -2.074      0.039      -0.134      -0.004\n",
            "ZN             0.0444      0.014      3.084      0.002       0.016       0.073\n",
            "INDUS         -0.0490      0.062     -0.786      0.432      -0.171       0.073\n",
            "CHAS           3.0966      0.904      3.425      0.001       1.320       4.873\n",
            "NOX           -3.0189      3.378     -0.894      0.372      -9.655       3.617\n",
            "RM             5.8747      0.310     18.938      0.000       5.265       6.484\n",
            "AGE           -0.0091      0.014     -0.660      0.510      -0.036       0.018\n",
            "DIS           -1.0335      0.195     -5.298      0.000      -1.417      -0.650\n",
            "TAX           -0.0014      0.002     -0.596      0.551      -0.006       0.003\n",
            "PTRATIO       -0.3857      0.110     -3.492      0.001      -0.603      -0.169\n",
            "B              0.0138      0.003      5.170      0.000       0.009       0.019\n",
            "LSTAT         -0.4239      0.051     -8.315      0.000      -0.524      -0.324\n",
            "==============================================================================\n",
            "Omnibus:                      209.954   Durbin-Watson:                   0.998\n",
            "Prob(Omnibus):                  0.000   Jarque-Bera (JB):             1407.013\n",
            "Skew:                           1.668   Prob(JB):                    2.96e-306\n",
            "Kurtosis:                      10.457   Cond. No.                     8.50e+03\n",
            "==============================================================================\n",
            "\n",
            "Warnings:\n",
            "[1] Standard Errors assume that the covariance matrix of the errors is correctly specified.\n",
            "[2] The condition number is large, 8.5e+03. This might indicate that there are\n",
            "strong multicollinearity or other numerical problems.\n"
          ]
        }
      ]
    },
    {
      "cell_type": "code",
      "metadata": {
        "colab": {
          "base_uri": "https://localhost:8080/"
        },
        "id": "yBRZz072uNBp",
        "outputId": "7279684c-8295-464a-8af9-6d12cbaf61f6"
      },
      "source": [
        "#2.用線性回歸做訓練線性模型:\n",
        "#import基本函式庫\n",
        "import pandas as pd\n",
        "import numpy as np\n",
        "\n",
        "#將資料分成訓練組及測試組\n",
        "from sklearn.model_selection import train_test_split\n",
        "\n",
        "#test_size代表測試組比例。random_state代表設定隨機種子，讓測試結果可被重複\n",
        "X_train, X_test, y_train, y_test = train_test_split(X, y, test_size=0.3, random_state=333)\n",
        "#載入線性迴歸，並訓練模型\n",
        "from sklearn.linear_model import LinearRegression\n",
        "lm = LinearRegression()\n",
        "lm.fit(X_train,y_train)\n",
        "\n",
        "#取得截距。如果公式是y=a+bx，a即是截距\n",
        "print(lm.intercept_)\n",
        "print(lm.coef_)"
      ],
      "execution_count": null,
      "outputs": [
        {
          "output_type": "stream",
          "name": "stdout",
          "text": [
            "33.792411582209986\n",
            "[-8.49452776e-02  4.58434094e-02 -4.80541867e-02  4.99341052e+00\n",
            " -1.48320522e+01  3.54810159e+00 -1.18032886e-02 -1.61368465e+00\n",
            "  4.08639695e-03 -8.34141990e-01  8.17558831e-03 -5.95212892e-01]\n"
          ]
        }
      ]
    },
    {
      "cell_type": "code",
      "metadata": {
        "colab": {
          "base_uri": "https://localhost:8080/",
          "height": 425
        },
        "id": "stPpL6bTuRXY",
        "outputId": "ddb90240-974b-4bae-8cc4-b834e72d0e9d"
      },
      "source": [
        "#取得迴歸係數，並用Data Frame顯示:pd.DataFrame(資料,列的名稱,行的名稱)\n",
        "#lm.coef_\n",
        "#X_train.columns\n",
        "cdf = pd.DataFrame(lm.coef_,X_train.columns,columns=['Coef'])\n",
        "cdf"
      ],
      "execution_count": null,
      "outputs": [
        {
          "output_type": "execute_result",
          "data": {
            "text/html": [
              "<div>\n",
              "<style scoped>\n",
              "    .dataframe tbody tr th:only-of-type {\n",
              "        vertical-align: middle;\n",
              "    }\n",
              "\n",
              "    .dataframe tbody tr th {\n",
              "        vertical-align: top;\n",
              "    }\n",
              "\n",
              "    .dataframe thead th {\n",
              "        text-align: right;\n",
              "    }\n",
              "</style>\n",
              "<table border=\"1\" class=\"dataframe\">\n",
              "  <thead>\n",
              "    <tr style=\"text-align: right;\">\n",
              "      <th></th>\n",
              "      <th>Coef</th>\n",
              "    </tr>\n",
              "  </thead>\n",
              "  <tbody>\n",
              "    <tr>\n",
              "      <th>CRIM</th>\n",
              "      <td>-0.084945</td>\n",
              "    </tr>\n",
              "    <tr>\n",
              "      <th>ZN</th>\n",
              "      <td>0.045843</td>\n",
              "    </tr>\n",
              "    <tr>\n",
              "      <th>INDUS</th>\n",
              "      <td>-0.048054</td>\n",
              "    </tr>\n",
              "    <tr>\n",
              "      <th>CHAS</th>\n",
              "      <td>4.993411</td>\n",
              "    </tr>\n",
              "    <tr>\n",
              "      <th>NOX</th>\n",
              "      <td>-14.832052</td>\n",
              "    </tr>\n",
              "    <tr>\n",
              "      <th>RM</th>\n",
              "      <td>3.548102</td>\n",
              "    </tr>\n",
              "    <tr>\n",
              "      <th>AGE</th>\n",
              "      <td>-0.011803</td>\n",
              "    </tr>\n",
              "    <tr>\n",
              "      <th>DIS</th>\n",
              "      <td>-1.613685</td>\n",
              "    </tr>\n",
              "    <tr>\n",
              "      <th>TAX</th>\n",
              "      <td>0.004086</td>\n",
              "    </tr>\n",
              "    <tr>\n",
              "      <th>PTRATIO</th>\n",
              "      <td>-0.834142</td>\n",
              "    </tr>\n",
              "    <tr>\n",
              "      <th>B</th>\n",
              "      <td>0.008176</td>\n",
              "    </tr>\n",
              "    <tr>\n",
              "      <th>LSTAT</th>\n",
              "      <td>-0.595213</td>\n",
              "    </tr>\n",
              "  </tbody>\n",
              "</table>\n",
              "</div>"
            ],
            "text/plain": [
              "              Coef\n",
              "CRIM     -0.084945\n",
              "ZN        0.045843\n",
              "INDUS    -0.048054\n",
              "CHAS      4.993411\n",
              "NOX     -14.832052\n",
              "RM        3.548102\n",
              "AGE      -0.011803\n",
              "DIS      -1.613685\n",
              "TAX       0.004086\n",
              "PTRATIO  -0.834142\n",
              "B         0.008176\n",
              "LSTAT    -0.595213"
            ]
          },
          "metadata": {},
          "execution_count": 6
        }
      ]
    },
    {
      "cell_type": "code",
      "metadata": {
        "colab": {
          "base_uri": "https://localhost:8080/"
        },
        "id": "yqEucSHpuS-Y",
        "outputId": "5b469871-6d89-4127-e559-b70055416a3a"
      },
      "source": [
        "MSE1= np.mean((y_train - lm.predict(X_train) )** 2)\n",
        "RMSE1=MSE1**0.5\n",
        "MSE2= np.mean((y_test - lm.predict(X_test) )** 2)\n",
        "RMSE2=MSE2**0.5\n",
        "print('train_RMSE=%.3f,test_RMSE=%.3f'%(RMSE1,RMSE2))"
      ],
      "execution_count": null,
      "outputs": [
        {
          "output_type": "stream",
          "name": "stdout",
          "text": [
            "train_RMSE=4.844,test_RMSE=4.816\n"
          ]
        }
      ]
    },
    {
      "cell_type": "code",
      "metadata": {
        "colab": {
          "base_uri": "https://localhost:8080/"
        },
        "id": "kSL_eEiDuWaB",
        "outputId": "3511be9d-8fdb-4a16-a1e7-3363e1fecb0b"
      },
      "source": [
        "df[\"PRICE\"].mean()"
      ],
      "execution_count": null,
      "outputs": [
        {
          "output_type": "execute_result",
          "data": {
            "text/plain": [
              "22.532806324110698"
            ]
          },
          "metadata": {},
          "execution_count": 8
        }
      ]
    },
    {
      "cell_type": "code",
      "metadata": {
        "colab": {
          "base_uri": "https://localhost:8080/"
        },
        "id": "NC2xSVh-uUnA",
        "outputId": "8e230c3b-4104-4495-d7e1-17584600311c"
      },
      "source": [
        "R2_train = lm.score(X_train,y_train)\n",
        "R2_test = lm.score(X_test,y_test)\n",
        "\n",
        "print('train_R2=%.3f, test_R2=%.3f'%(R2_train,R2_test))"
      ],
      "execution_count": null,
      "outputs": [
        {
          "output_type": "stream",
          "name": "stdout",
          "text": [
            "train_R2=0.724, test_R2=0.721\n"
          ]
        }
      ]
    },
    {
      "cell_type": "code",
      "metadata": {
        "colab": {
          "base_uri": "https://localhost:8080/"
        },
        "id": "wu1_vIKOurfh",
        "outputId": "33c633bf-653a-4175-d7d5-d9f2d80d2e64"
      },
      "source": [
        "from sklearn.metrics import mean_squared_error\n",
        "from math import sqrt\n",
        "# 使用X_test預測y，得到y_pred1 \n",
        "y_pred1 = lm.predict(X_test)\n",
        "rms = sqrt(mean_squared_error(y_test, y_pred1)) \n",
        "print(\"rms: %.3f\" % rms) "
      ],
      "execution_count": null,
      "outputs": [
        {
          "output_type": "stream",
          "name": "stdout",
          "text": [
            "rms: 4.816\n"
          ]
        }
      ]
    }
  ]
}