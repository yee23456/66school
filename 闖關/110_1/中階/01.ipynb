{
  "nbformat": 4,
  "nbformat_minor": 0,
  "metadata": {
    "colab": {
      "name": "中階一",
      "provenance": []
    },
    "kernelspec": {
      "name": "python3",
      "display_name": "Python 3"
    },
    "language_info": {
      "name": "python"
    }
  },
  "cells": [
    {
      "cell_type": "code",
      "metadata": {
        "id": "ruYwfWz-Yxw-"
      },
      "source": [
        "J = [eval(x) for x in input().split()]\n",
        "print((lambda M,D : \"普通\" if ((M*2+D)%3 == 0) else (\"吉\" if ((M*2+D)%3 == 1) else \"大吉\"))(J[0],J[1]))"
      ],
      "execution_count": null,
      "outputs": []
    }
  ]
}