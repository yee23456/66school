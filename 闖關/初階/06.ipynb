{
  "nbformat": 4,
  "nbformat_minor": 0,
  "metadata": {
    "colab": {
      "name": "初階六",
      "provenance": [],
      "collapsed_sections": []
    },
    "kernelspec": {
      "name": "python3",
      "display_name": "Python 3"
    },
    "language_info": {
      "name": "python"
    }
  },
  "cells": [
    {
      "cell_type": "code",
      "metadata": {
        "colab": {
          "base_uri": "https://localhost:8080/"
        },
        "id": "E7_5J285KgGX",
        "outputId": "05cea55b-5c9b-446c-bc5f-b886e9680a07"
      },
      "source": [
        "def count_each_char_1(string):\n",
        "    res = {}\n",
        "    for i in string:\n",
        "        if i not in res:\n",
        "            res[i] = 1\n",
        "        else:\n",
        "            res[i] += 1\n",
        "    return res\n",
        " \n",
        "print(count_each_char_1('data'))"
      ],
      "execution_count": null,
      "outputs": [
        {
          "output_type": "stream",
          "text": [
            "{'d': 1, 'a': 2, 't': 1}\n"
          ],
          "name": "stdout"
        }
      ]
    }
  ]
}