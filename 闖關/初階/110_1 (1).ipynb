{
  "nbformat": 4,
  "nbformat_minor": 0,
  "metadata": {
    "colab": {
      "name": "初階一",
      "provenance": [],
      "collapsed_sections": []
    },
    "kernelspec": {
      "name": "python3",
      "display_name": "Python 3"
    },
    "language_info": {
      "name": "python"
    }
  },
  "cells": [
    {
      "cell_type": "markdown",
      "metadata": {
        "id": "XRMPxiCyNPMh"
      },
      "source": [
        ""
      ]
    },
    {
      "cell_type": "code",
      "metadata": {
        "id": "sSCgmo4fdItF"
      },
      "source": [
        "import pandas as pd"
      ],
      "execution_count": null,
      "outputs": []
    },
    {
      "cell_type": "code",
      "metadata": {
        "colab": {
          "base_uri": "https://localhost:8080/"
        },
        "id": "C7Gtuz0dNO-o",
        "outputId": "3b406993-c09a-435e-9713-f8ee718fee56"
      },
      "source": [
        "A = 484\n",
        "B = \"你好\"\n",
        "C = \"我想要知道\"\n",
        "D = \"都不知道吃啥好\"\n",
        "\n",
        "print(f\"{B}!{C}這附近有沒有什麼好吃的~\\n五、六、日{D}!{A}美食沙漠=.=\\\"\\\"\")"
      ],
      "execution_count": null,
      "outputs": [
        {
          "output_type": "stream",
          "name": "stdout",
          "text": [
            "你好!我想要知道這附近有沒有什麼好吃的~\n",
            "五、六、日都不知道吃啥好!484美食沙漠=.=\"\"\n"
          ]
        }
      ]
    },
    {
      "cell_type": "code",
      "metadata": {
        "colab": {
          "base_uri": "https://localhost:8080/"
        },
        "id": "F-8b85YzYhDI",
        "outputId": "8bbd8753-5042-41a2-d9a9-34935c64f076"
      },
      "source": [
        "E = list(f\"{B}!{C}這附近有沒有什麼好吃的~\\n五、六、日{D}!{A}美食沙漠=.=\\\"\\\"\")\n",
        "print(E)"
      ],
      "execution_count": null,
      "outputs": [
        {
          "output_type": "stream",
          "name": "stdout",
          "text": [
            "['你', '好', '!', '我', '想', '要', '知', '道', '這', '附', '近', '有', '沒', '有', '什', '麼', '好', '吃', '的', '~', '\\n', '五', '、', '六', '、', '日', '都', '不', '知', '道', '吃', '啥', '好', '!', '4', '8', '4', '美', '食', '沙', '漠', '=', '.', '=', '\"', '\"']\n"
          ]
        }
      ]
    },
    {
      "cell_type": "code",
      "metadata": {
        "colab": {
          "base_uri": "https://localhost:8080/"
        },
        "id": "9RPCezN6Yo6p",
        "outputId": "12c78108-883d-400a-e9a9-8ad5fafea363"
      },
      "source": [
        "G = list(\"這附近沒啥好吃的~=.=\\\"\")\n",
        "b=[]\n",
        "for i in G:\n",
        "  print(E.index(i),end = ' ,')\n"
      ],
      "execution_count": null,
      "outputs": [
        {
          "output_type": "stream",
          "name": "stdout",
          "text": [
            "8 ,9 ,10 ,12 ,31 ,1 ,17 ,18 ,19 ,41 ,42 ,41 ,44 ,"
          ]
        }
      ]
    },
    {
      "cell_type": "code",
      "metadata": {
        "id": "y_iOBeq5jaLi"
      },
      "source": [
        "a = [\"你\",\"好\",\"我\",\"是\"]\n",
        "a.index(\"你\")"
      ],
      "execution_count": null,
      "outputs": []
    }
  ]
}