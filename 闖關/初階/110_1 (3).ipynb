{
  "nbformat": 4,
  "nbformat_minor": 0,
  "metadata": {
    "colab": {
      "name": "初階三",
      "provenance": [],
      "collapsed_sections": []
    },
    "kernelspec": {
      "name": "python3",
      "display_name": "Python 3"
    },
    "language_info": {
      "name": "python"
    }
  },
  "cells": [
    {
      "cell_type": "code",
      "metadata": {
        "colab": {
          "base_uri": "https://localhost:8080/"
        },
        "id": "zfHaFrsfnGsD",
        "outputId": "3857817a-9c9a-460f-c6d2-0f921536e8de"
      },
      "source": [
        "#正解\n",
        "for i in range(3):\n",
        "  j = 0\n",
        "  while(j<i):\n",
        "    print(' ',end = '')\n",
        "    j+=1\n",
        "  k = 6-2*i\n",
        "  while(k>0):\n",
        "    print('*',end='')\n",
        "    k-=1\n",
        "  print()"
      ],
      "execution_count": null,
      "outputs": [
        {
          "output_type": "stream",
          "text": [
            "******\n",
            " ****\n",
            "  **\n"
          ],
          "name": "stdout"
        }
      ]
    },
    {
      "cell_type": "code",
      "metadata": {
        "id": "R-FQwLZPuJdG"
      },
      "source": [
        "for i in range(3):\n",
        "  j = 0\n",
        "  while(i<j):  \n",
        "    print(' ',end = '')\n",
        "  j+=1     \n",
        "  k = 6-2*i\n",
        "  while(k>1): \n",
        "    print('*',end='')\n",
        "    k-=1\n",
        "  print()"
      ],
      "execution_count": null,
      "outputs": []
    }
  ]
}