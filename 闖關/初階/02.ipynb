{
  "nbformat": 4,
  "nbformat_minor": 0,
  "metadata": {
    "colab": {
      "name": "初階二",
      "provenance": [],
      "collapsed_sections": []
    },
    "kernelspec": {
      "name": "python3",
      "display_name": "Python 3"
    },
    "language_info": {
      "name": "python"
    }
  },
  "cells": [
    {
      "cell_type": "code",
      "metadata": {
        "id": "JnXRBty_64t7",
        "colab": {
          "base_uri": "https://localhost:8080/"
        },
        "outputId": "0c3ec4b2-6e0e-415f-a98a-97254e07168d"
      },
      "source": [
        "height = 9\n",
        "stars = 1\n",
        "\n",
        "for i in range(height):\n",
        "    print((' ' * (height - i)) + ('@' * stars))\n",
        "    stars += 2\n",
        "for u in range(5):\n",
        "  print((\" \"*(height-1))+\"|#|\")\n",
        "\n"
      ],
      "execution_count": null,
      "outputs": [
        {
          "output_type": "stream",
          "text": [
            "         @\n",
            "        @@@\n",
            "       @@@@@\n",
            "      @@@@@@@\n",
            "     @@@@@@@@@\n",
            "    @@@@@@@@@@@\n",
            "   @@@@@@@@@@@@@\n",
            "  @@@@@@@@@@@@@@@\n",
            " @@@@@@@@@@@@@@@@@\n",
            "        |#|\n",
            "        |#|\n",
            "        |#|\n",
            "        |#|\n",
            "        |#|\n"
          ],
          "name": "stdout"
        }
      ]
    },
    {
      "cell_type": "code",
      "source": [
        ""
      ],
      "metadata": {
        "id": "pFGvR1FZHoVg"
      },
      "execution_count": null,
      "outputs": []
    }
  ]
}