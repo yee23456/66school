{
  "nbformat": 4,
  "nbformat_minor": 0,
  "metadata": {
    "colab": {
      "name": "初階七",
      "provenance": [],
      "collapsed_sections": []
    },
    "kernelspec": {
      "name": "python3",
      "display_name": "Python 3"
    },
    "language_info": {
      "name": "python"
    }
  },
  "cells": [
    {
      "cell_type": "code",
      "metadata": {
        "id": "SWEtm5DsO69l",
        "colab": {
          "base_uri": "https://localhost:8080/"
        },
        "outputId": "85012085-a5a5-4418-f1af-b18ae8951b55"
      },
      "source": [
        "def rcount(word,element):\n",
        "    word=word.lower()\n",
        "    element=element.lower()\n",
        "    res = 0\n",
        "    for i in word:\n",
        "      if i == element:\n",
        "          res+= 1\n",
        "    return res\n",
        " \n",
        "print(rcount('More Examoles','M'))"
      ],
      "execution_count": null,
      "outputs": [
        {
          "output_type": "stream",
          "text": [
            "2\n"
          ],
          "name": "stdout"
        }
      ]
    },
    {
      "cell_type": "code",
      "source": [
        "word = input(\"請輸入文字:\")\n",
        "word = word.lower()\n",
        "element = input(\"請輸入字母:\")\n",
        "element = element.lower()\n",
        "time = 0\n",
        "# for i in range(len(word)): #以數字的形式去跑\n",
        "#   if word[i] == element:\n",
        "#     time+=1\n",
        "#   else:\n",
        "#     pass\n",
        "for i in word: #文字\n",
        "  if i == element:\n",
        "    time+=1\n",
        "  else:\n",
        "    pass\n",
        "print(time)"
      ],
      "metadata": {
        "colab": {
          "base_uri": "https://localhost:8080/"
        },
        "id": "tWeNLpPQ2MrC",
        "outputId": "9d8f3d4e-beb3-452f-c915-4460a58fa08b"
      },
      "execution_count": null,
      "outputs": [
        {
          "output_type": "stream",
          "name": "stdout",
          "text": [
            "請輸入文字:More Examoles\n",
            "請輸入字母:M\n",
            "2\n"
          ]
        }
      ]
    }
  ]
}