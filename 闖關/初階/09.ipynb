{
  "nbformat": 4,
  "nbformat_minor": 0,
  "metadata": {
    "colab": {
      "name": "初階九",
      "provenance": [],
      "collapsed_sections": []
    },
    "kernelspec": {
      "name": "python3",
      "display_name": "Python 3"
    },
    "language_info": {
      "name": "python"
    }
  },
  "cells": [
    {
      "cell_type": "code",
      "metadata": {
        "colab": {
          "base_uri": "https://localhost:8080/"
        },
        "id": "YgPQrOtsrBip",
        "outputId": "7c83fee6-9e44-4b71-bea5-f4c133a3173b"
      },
      "source": [
        "visit = []\n",
        "prime = []\n",
        "right = []\n",
        "def makeprimelist(a,b):\n",
        "    for j in range(b+1):\n",
        "        visit.append(0)\n",
        "    for i in range(2,b+1):\n",
        "        if visit[i] == 0:\n",
        "            prime.append(i)\n",
        "            for j in range(i,b+1,i):\n",
        "                visit[j]=1\n",
        "    for k in prime:\n",
        "        if a <= k :\n",
        "            right.append(k)\n",
        "        else:\n",
        "            pass\n",
        "    print(len(right))\n",
        "    return right\n",
        "    \n",
        "a,b = input().split()\n",
        "print(makeprimelist(int(a),int(b)))"
      ],
      "execution_count": null,
      "outputs": [
        {
          "output_type": "stream",
          "name": "stdout",
          "text": [
            "23 30\n",
            "2\n",
            "[23, 29]\n"
          ]
        }
      ]
    }
  ]
}