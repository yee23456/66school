{
  "nbformat": 4,
  "nbformat_minor": 0,
  "metadata": {
    "colab": {
      "name": "初階八",
      "provenance": [],
      "collapsed_sections": []
    },
    "kernelspec": {
      "name": "python3",
      "display_name": "Python 3"
    },
    "language_info": {
      "name": "python"
    }
  },
  "cells": [
    {
      "cell_type": "code",
      "metadata": {
        "colab": {
          "base_uri": "https://localhost:8080/"
        },
        "id": "rMaO3F7Nu4G2",
        "outputId": "95c80449-def7-40fc-e982-9a8d430fdfe6"
      },
      "source": [
        "for i in range(1,10):\n",
        "     for k in range(1,10-i):\n",
        "         print(end=\"    \")\n",
        "     for j in range(1,i+1):\n",
        "         print(\"%d*%d=%2d\" % (i,j,i*j),end=\" \")\n",
        "     print(\"\")"
      ],
      "execution_count": null,
      "outputs": [
        {
          "output_type": "stream",
          "name": "stdout",
          "text": [
            "                                1*1= 1 \n",
            "                            2*1= 2 2*2= 4 \n",
            "                        3*1= 3 3*2= 6 3*3= 9 \n",
            "                    4*1= 4 4*2= 8 4*3=12 4*4=16 \n",
            "                5*1= 5 5*2=10 5*3=15 5*4=20 5*5=25 \n",
            "            6*1= 6 6*2=12 6*3=18 6*4=24 6*5=30 6*6=36 \n",
            "        7*1= 7 7*2=14 7*3=21 7*4=28 7*5=35 7*6=42 7*7=49 \n",
            "    8*1= 8 8*2=16 8*3=24 8*4=32 8*5=40 8*6=48 8*7=56 8*8=64 \n",
            "9*1= 9 9*2=18 9*3=27 9*4=36 9*5=45 9*6=54 9*7=63 9*8=72 9*9=81 \n"
          ]
        }
      ]
    }
  ]
}