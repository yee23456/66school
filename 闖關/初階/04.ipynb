{
  "nbformat": 4,
  "nbformat_minor": 0,
  "metadata": {
    "colab": {
      "name": "初階四",
      "provenance": [],
      "collapsed_sections": []
    },
    "kernelspec": {
      "name": "python3",
      "display_name": "Python 3"
    },
    "language_info": {
      "name": "python"
    }
  },
  "cells": [
    {
      "cell_type": "code",
      "metadata": {
        "id": "0ygzWGT4tabO",
        "colab": {
          "base_uri": "https://localhost:8080/"
        },
        "outputId": "8d7f60b4-a475-4ed5-9e00-7b7fe5ce056e"
      },
      "source": [
        "import random\n",
        "number = random.randint(1,1000)\n",
        "a = 1\n",
        "b = 1000\n",
        "while True:\n",
        "  choose_number = int(input(\"請輸入數字:\"))\n",
        "  if choose_number > number:\n",
        "    b = choose_number\n",
        "    print(f'{a}< X < {b}')\n",
        "  elif choose_number < number:\n",
        "    a = choose_number\n",
        "    print(f'{a}< X < {b}')\n",
        "  else:\n",
        "    print(\"你猜中ㄌ\")\n",
        "    break"
      ],
      "execution_count": null,
      "outputs": [
        {
          "output_type": "stream",
          "name": "stdout",
          "text": [
            "請輸入數字:571\n",
            "571< X < 1000\n",
            "請輸入數字:750\n",
            "750< X < 1000\n",
            "請輸入數字:825\n",
            "825< X < 1000\n",
            "請輸入數字:945\n",
            "825< X < 945\n",
            "請輸入數字:875\n",
            "875< X < 945\n",
            "請輸入數字:900\n",
            "900< X < 945\n",
            "請輸入數字:932\n",
            "900< X < 932\n",
            "請輸入數字:910\n",
            "910< X < 932\n",
            "請輸入數字:922\n",
            "你猜中ㄌ\n"
          ]
        }
      ]
    }
  ]
}