{
  "nbformat": 4,
  "nbformat_minor": 0,
  "metadata": {
    "colab": {
      "name": "初階十",
      "provenance": [],
      "collapsed_sections": []
    },
    "kernelspec": {
      "name": "python3",
      "display_name": "Python 3"
    },
    "language_info": {
      "name": "python"
    }
  },
  "cells": [
    {
      "cell_type": "code",
      "metadata": {
        "id": "4NAFlCvxK7zQ"
      },
      "source": [
        "\"\"\"\n",
        "\n",
        "請製作一個解碼器\n",
        "\n",
        "使用ASCII 將加密過後的密碼解開\n",
        "\n",
        "#密碼學裡面有一種很簡單的加密方式，就是把明碼的每個字元加上某一個整數K而得到密碼的字元。\n",
        " 例如若K=2，那麼apple經過加密後就變成crrng了\n",
        " \n",
        "至於此題中的K為多少請參照下面的範例輸出入推出吧!\n",
        "\n",
        "範例輸入1.\n",
        "\"K<K\u0018qk(lp](lzYl]uYzc(gn\u0018|`m\u0018Kgvlzgt\u0018LY|Y(;wjxgzY|awf6\n",
        "\n",
        "範例輸出1.\n",
        "*CDC is the trademark of the Control Data Corporation.\n",
        "\n",
        "範例輸入2.\n",
        ";\\:K\u0018JYvc(a{\u0018iewfok|\u0018|`m\u0018tYz_mk|\u0018xjqnilmd\u0018wov]l\u0018jYvc{\u0018qf(LiaYv&\n",
        "\n",
        "範例輸出2.\n",
        "CTBC Bank is amongst the largest privately owned banks in Taiwan.\n",
        "\n",
        "\"\"\""
      ],
      "execution_count": null,
      "outputs": []
    },
    {
      "cell_type": "code",
      "metadata": {
        "id": "oauscg7_KzRk"
      },
      "source": [
        "#10.初階十 我的寫法 加密\n",
        "\n",
        "a = input(':')\n",
        "for i in range(len(a)):\n",
        "    if i%2 == 0:\n",
        "        print(chr(ord(a[i])-8),end = \"\")\n",
        "    else:\n",
        "        print(chr(ord(a[i])+8),end = \"\")        \n",
        "print(\"\\n更動後的\")\n"
      ],
      "execution_count": null,
      "outputs": []
    },
    {
      "cell_type": "code",
      "metadata": {
        "id": "-fIB4c_SK24L",
        "colab": {
          "base_uri": "https://localhost:8080/"
        },
        "outputId": "9a543360-0e74-42fd-d8b3-6db42c8ba7b7"
      },
      "source": [
        "#解密\n",
        "a = input(':')\n",
        "for i in range(len(a)):\n",
        "    if i%2 == 0:\n",
        "        print(chr(ord(a[i])+8),end = \"\")\n",
        "    else:\n",
        "        print(chr(ord(a[i])-8),end = \"\")        \n",
        "print(\"\\n更動後的\")"
      ],
      "execution_count": null,
      "outputs": [
        {
          "output_type": "stream",
          "name": "stdout",
          "text": [
            ":\"K<K\u0018qk(lp](lzYl]uYzc(gn\u0018|`m\u0018Kgvlzgt\u0018LY|Y(;wjxgzY|awf6\n",
            "*CDC is the trademark of the Control Data Corporation.\n",
            "更動後的\n"
          ]
        }
      ]
    }
  ]
}