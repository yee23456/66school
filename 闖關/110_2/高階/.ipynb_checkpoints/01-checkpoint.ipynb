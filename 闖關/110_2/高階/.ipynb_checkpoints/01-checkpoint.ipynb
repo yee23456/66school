{
 "cells": [
  {
   "cell_type": "markdown",
   "metadata": {
    "id": "kJYtYsxGVELe"
   },
   "source": [
    "# 第一題\n",
    "阿明幫忙新生營隊保險事宜，不巧他的名冊還沒建檔就不小心被墨水濺到了，而且只賤到身份證的欄位\n",
    "阿普希望你能幫忙寫一個程式，查出身份證被賤到的字是什麼？\n",
    "\n",
    "中華民國身分證的號碼是經由一串公式所產生出來的，其身分證字號共有十碼，包括第一個大寫的英文字母與接續的九個阿拉伯數字。\n",
    "\n",
    "(1)第一個碼代表地區，轉換方式為：      A=10 台北市     J=18 新竹縣     S=26 高雄縣\n",
    "      B=11 台中市     K=19 苗栗縣     T=27 屏東縣\n",
    "      C=12 基隆市     L=20 台中縣     U=28 花蓮縣\n",
    "      D=13 台南市     M=21 南投縣     V=29 台東縣\n",
    "      E=14 高雄市     N=22 彰化縣     W=32 金門縣\n",
    "      F=15 台北縣     O=35 新竹市     X=30 澎湖縣\n",
    "      G=16 宜蘭縣     P=23 雲林縣     Y=31 陽明山\n",
    "      H=17 桃園縣     Q=24 嘉義縣     Z=33 連江縣\n",
    "      I=34 嘉義市     R=25 台南縣，：\n",
    "\n",
    "(2)第二個碼代表性別，1 代表男性，2 代表女性\n",
    "\n",
    "(3)第三個碼到第九個字元為流水號碼。\n",
    "\n",
    "(4)第十個碼為檢查號碼。\n",
    "\n",
    "例如：A123456789，其A 的轉換字元是1 和0，其餘各碼亦轉換成字元，然後再把每一個變數，依序乘上 1 9 8 7 6 5 4 3 2 1 及 1 的加權，再相加\n",
    "將身分證號碼 A123456789 套入公式，其結果為：\n",
    "\n",
    "    1x1 + 0x9 + 1x8 + 2x7 + 3x6 + 4x5 + 5x4 + 6x3 + 7x2 + 8x1 + 9x1 = 130\n",
    "\n",
    "然後再除以 10，如果整除，該組身分證字號為有效。"
   ]
  },
  {
   "cell_type": "code",
   "execution_count": null,
   "metadata": {
    "colab": {
     "base_uri": "https://localhost:8080/",
     "height": 52
    },
    "id": "iZQmt0uSUogp",
    "outputId": "acbb033b-d7a8-4506-cbaa-b61ca280fdac"
   },
   "outputs": [
    {
     "name": "stdout",
     "output_type": "stream",
     "text": [
      "20\n"
     ]
    },
    {
     "data": {
      "application/vnd.google.colaboratory.intrinsic+json": {
       "type": "string"
      },
      "text/plain": [
       "'/content/質數資料夾/prime_list.txt'"
      ]
     },
     "execution_count": 1,
     "metadata": {},
     "output_type": "execute_result"
    }
   ],
   "source": []
  }
 ],
 "metadata": {
  "colab": {
   "collapsed_sections": [],
   "name": "高階題一.ipynb",
   "provenance": []
  },
  "kernelspec": {
   "display_name": "Python 3 (ipykernel)",
   "language": "python",
   "name": "python3"
  },
  "language_info": {
   "codemirror_mode": {
    "name": "ipython",
    "version": 3
   },
   "file_extension": ".py",
   "mimetype": "text/x-python",
   "name": "python",
   "nbconvert_exporter": "python",
   "pygments_lexer": "ipython3",
   "version": "3.9.7"
  }
 },
 "nbformat": 4,
 "nbformat_minor": 1
}
