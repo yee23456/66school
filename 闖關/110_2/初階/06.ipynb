{
 "cells": [
  {
   "cell_type": "markdown",
   "metadata": {},
   "source": [
    "# 第六題\n"
   ]
  },
  {
   "cell_type": "markdown",
   "metadata": {},
   "source": [
    "    給a , b, c 三個任意數字 請設計一個程式可以計算出由abc三邊組成的三角形面積\n",
    "    如果a,b,c不能組成三角形請打出FALSE"
   ]
  },
  {
   "cell_type": "code",
   "execution_count": 8,
   "metadata": {},
   "outputs": [
    {
     "name": "stdout",
     "output_type": "stream",
     "text": [
      ":5 6 7\n",
      "The area of the triangle is 14.70\n"
     ]
    }
   ],
   "source": [
    "number = [int(i) for i in input(':').split()]\n",
    "s = (number[0] + number[1] + number[2]) / 2\n",
    "area = (s*(s-number[0])*(s-number[1])*(s-number[2])) ** 0.5\n",
    "print('The area of the triangle is %0.2f' %area)"
   ]
  }
 ],
 "metadata": {
  "colab": {
   "collapsed_sections": [],
   "name": "初階六",
   "provenance": []
  },
  "kernelspec": {
   "display_name": "Python 3 (ipykernel)",
   "language": "python",
   "name": "python3"
  },
  "language_info": {
   "codemirror_mode": {
    "name": "ipython",
    "version": 3
   },
   "file_extension": ".py",
   "mimetype": "text/x-python",
   "name": "python",
   "nbconvert_exporter": "python",
   "pygments_lexer": "ipython3",
   "version": "3.9.7"
  }
 },
 "nbformat": 4,
 "nbformat_minor": 1
}
