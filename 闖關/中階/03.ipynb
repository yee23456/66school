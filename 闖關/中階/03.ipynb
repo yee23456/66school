{
  "nbformat": 4,
  "nbformat_minor": 0,
  "metadata": {
    "colab": {
      "name": "中階三",
      "provenance": [],
      "collapsed_sections": []
    },
    "kernelspec": {
      "name": "python3",
      "display_name": "Python 3"
    },
    "language_info": {
      "name": "python"
    }
  },
  "cells": [
    {
      "cell_type": "code",
      "metadata": {
        "id": "v11IerVOgptP",
        "colab": {
          "base_uri": "https://localhost:8080/"
        },
        "outputId": "fb6b3131-dcf5-4eb7-93d0-e42b8d058bea"
      },
      "source": [
        "code = {\n",
        "'.-':'A',\n",
        "'-...':'B',\n",
        "'-.-.':'C',\n",
        "'-..':'D',\n",
        "'.':'E',        \n",
        "'..-.':'F',\n",
        "'--.':'G',\n",
        "'....':'H',\n",
        "'..':'I',\n",
        "'.---':'J',\n",
        "'-.-':'K',\n",
        "'.-..':'L',\n",
        "'--':'M',\n",
        "'-.':'N',\n",
        "'---':'O',\n",
        "'.--.':'P',\n",
        "'--.-':'Q',\n",
        "'.-.':'R',\n",
        "'...':'S',\n",
        "'-':'T',\n",
        "'..-':'U',\n",
        "'...-':'V',\n",
        "'.--':'W',\n",
        "'-..-':'X',\n",
        "'-.--':'Y',\n",
        "'--..':'Z',}\n",
        "word = []\n",
        "time = int(input(\"請輸入次數:\"))\n",
        "if 2 <= time <= 5:\n",
        "    for i in range(time):\n",
        "        code_list = [str(x) for x in input(\"請輸入密碼:\").split()]\n",
        "        for z in range(len(code_list)):\n",
        "            word.append(code.get(code_list[z]))\n",
        "        word.append('\\n')\n",
        "for x in word:\n",
        "    print(x,end = '')"
      ],
      "execution_count": null,
      "outputs": [
        {
          "output_type": "stream",
          "name": "stdout",
          "text": [
            "請輸入次數:2\n",
            "請輸入密碼:--..\n",
            "請輸入密碼:-.--\n",
            "Z\n",
            "Y\n"
          ]
        }
      ]
    },
    {
      "cell_type": "code",
      "metadata": {
        "id": "rgUYcfWSxGEa",
        "colab": {
          "base_uri": "https://localhost:8080/"
        },
        "outputId": "df438d2b-50df-4410-8c97-06a1a988b449"
      },
      "source": [
        "number =  int(input(''))\n",
        "number_input = input('')\n",
        "for i in range(number):\n",
        "    number_list = [int(x) for x in number_input.split()]\n",
        "    number_list.sort()\n",
        "print(number_list)\n"
      ],
      "execution_count": null,
      "outputs": [
        {
          "output_type": "stream",
          "text": [
            "5\n",
            "4 3 1 2\n",
            "[1, 2, 3, 4]\n"
          ],
          "name": "stdout"
        }
      ]
    }
  ]
}