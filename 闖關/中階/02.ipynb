{
  "nbformat": 4,
  "nbformat_minor": 0,
  "metadata": {
    "colab": {
      "name": "中階二",
      "provenance": [],
      "collapsed_sections": []
    },
    "kernelspec": {
      "name": "python3",
      "display_name": "Python 3"
    },
    "language_info": {
      "name": "python"
    }
  },
  "cells": [
    {
      "cell_type": "code",
      "metadata": {
        "id": "8Ra0ok-1m8f1",
        "colab": {
          "base_uri": "https://localhost:8080/"
        },
        "outputId": "4be89dea-209f-4750-bcd7-2bb8afd61773"
      },
      "source": [
        "# -*- coding: utf-8 -*-\n",
        "\"\"\"\n",
        "Created on Mon Sep  6 07:25:07 2021\n",
        "\n",
        "@author: 沈睿朋\n",
        "\"\"\"\n",
        "height = 5\n",
        "branches = 5\n",
        "stars = 1\n",
        "\n",
        "for h in range(4):\n",
        "  if h == 1:\n",
        "    print((' ' * (height*3-1))+'+++')\n",
        "  else:  \n",
        "    print((' ' * (height*3))+'+')\n",
        "    \n",
        "#第一層\n",
        "for i in range(height):\n",
        "    print((' ' * (height*3 - i)) + ('*' * stars))\n",
        "    stars += 2\n",
        "    \n",
        "#第二層\n",
        "for j in range(height-1):\n",
        "    print((' ' * ((height+1)*2 - j)) + ('*' * (stars-4)))\n",
        "    stars += 2\n",
        "#第三層\n",
        "for k in range(height-1):\n",
        "    print((' ' * ((height)*2 - k)) + ('*' * (stars-8)))\n",
        "    stars += 2\n",
        "#第四層\n",
        "for l in range(height-1):\n",
        "    print((' ' * ((height-1)*2 - l)) + ('*' * (stars-12)))\n",
        "    stars += 2\n",
        "    \n",
        "for k in range(6):\n",
        "  if k ==2 or k ==3:\n",
        "    print((' ' * (height*2+1))+('###   ###'))\n",
        "  else:  \n",
        "    print((' ' * (height*2+1)) + ('#'*9))\n",
        "\n",
        "\n"
      ],
      "execution_count": null,
      "outputs": [
        {
          "output_type": "stream",
          "name": "stdout",
          "text": [
            "               +\n",
            "              +++\n",
            "               +\n",
            "               +\n",
            "               *\n",
            "              ***\n",
            "             *****\n",
            "            *******\n",
            "           *********\n",
            "            *******\n",
            "           *********\n",
            "          ***********\n",
            "         *************\n",
            "          ***********\n",
            "         *************\n",
            "        ***************\n",
            "       *****************\n",
            "        ***************\n",
            "       *****************\n",
            "      *******************\n",
            "     *********************\n",
            "           #########\n",
            "           #########\n",
            "           ###   ###\n",
            "           ###   ###\n",
            "           #########\n",
            "           #########\n"
          ]
        }
      ]
    },
    {
      "cell_type": "code",
      "source": [
        ""
      ],
      "metadata": {
        "id": "5FwkDI_bIiEH"
      },
      "execution_count": null,
      "outputs": []
    },
    {
      "cell_type": "code",
      "metadata": {
        "colab": {
          "base_uri": "https://localhost:8080/"
        },
        "id": "Ql_OjRW3dCfI",
        "outputId": "78ae6d82-c46c-489c-9f0a-6b6cc2cc2e93"
      },
      "source": [
        "n = int(input(\"how big?\\t\"))\n",
        "for i in range(n):\n",
        "    for j in range(n-i):\n",
        "        print(' ', end='')\n",
        "    print('\\b', end='') #cheating\n",
        "    for k in range(i+n-j):\n",
        "        print('*', end='')\n",
        "    print('')"
      ],
      "execution_count": null,
      "outputs": [
        {
          "output_type": "stream",
          "text": [
            "how big?\t3\n",
            "   \b*\n",
            "  \b***\n",
            " \b*****\n"
          ],
          "name": "stdout"
        }
      ]
    }
  ]
}