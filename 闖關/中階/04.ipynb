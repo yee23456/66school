{
  "nbformat": 4,
  "nbformat_minor": 0,
  "metadata": {
    "colab": {
      "name": "中階四",
      "provenance": [],
      "collapsed_sections": []
    },
    "kernelspec": {
      "name": "python3",
      "display_name": "Python 3"
    },
    "language_info": {
      "name": "python"
    }
  },
  "cells": [
    {
      "cell_type": "code",
      "metadata": {
        "id": "y7bEpS9dM-Qj"
      },
      "source": [
        "print(\"\\n請注意!信用卡卡號為整數\")\n",
        "print(\"輸入錯誤三次將會跳出\")\n",
        "time = 0 #設定輸入次數\n",
        "while(time<3):\n",
        "    code = list(input(\"請輸入您的信用卡卡號:\"))    #輸入號碼\n",
        "    for i in range(0, len(code)):    \n",
        "        code[i] = int(code[i])       #讓輸入的號碼轉為int的list\n",
        "    if 13 <= len(code) <= 16 :       #限定輸入字數\n",
        "        if code[0] == 4 or code[0] == 5 or code[0] == 6 or code[:2] == [3,7]:#限定開頭數字\n",
        "            first_num = 0\n",
        "            for n in range(0,len(code),2): #隔位在code中取元素\n",
        "                if int(code[n])*2 <10:     #每位數取其兩倍小於十時\n",
        "                    first_num+=int(code[n])*2 #每位數取其兩倍數字相加\n",
        "                else:\n",
        "                    a=int(code[n])*2\n",
        "                    b=a%10+a//10      # *2大於十的時候 兩位數相加\n",
        "                    first_num+=b\n",
        "            two_code = code[::-1]   #反轉list中順序\n",
        "            two_num = 0\n",
        "            for z in range(0,len(two_code),2):#卡號奇數位置的所有位數相加\n",
        "                 two_num+= int(two_code[z])\n",
        "            total = two_num+first_num\n",
        "            if total%10 == 0: #總數被10整除\n",
        "                print(\"real\")\n",
        "                break\n",
        "            else:\n",
        "                print(\"false\")\n",
        "                time+=1\n",
        "                print(f\"輸入錯誤{time}次\")\n",
        "                continue\n",
        "        else:\n",
        "            time+=1\n",
        "            print(\"開頭輸入錯誤\")\n",
        "            print(f\"輸入錯誤{time}\")\n",
        "    else:\n",
        "        print(\"輸入號碼限制\")\n",
        "        time+=1\n",
        "if time == 3:\n",
        "    print(\"輸入錯誤超過三次，跳出\")\n",
        "else:\n",
        "    print(\"謝謝您的使用\")"
      ],
      "execution_count": null,
      "outputs": []
    },
    {
      "cell_type": "code",
      "source": [
        ""
      ],
      "metadata": {
        "id": "2_xBvVJPIlOL"
      },
      "execution_count": null,
      "outputs": []
    }
  ]
}