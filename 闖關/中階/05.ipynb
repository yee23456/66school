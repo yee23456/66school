{
  "nbformat": 4,
  "nbformat_minor": 0,
  "metadata": {
    "colab": {
      "name": "中階五",
      "provenance": [],
      "collapsed_sections": []
    },
    "kernelspec": {
      "name": "python3",
      "display_name": "Python 3"
    },
    "language_info": {
      "name": "python"
    }
  },
  "cells": [
    {
      "cell_type": "code",
      "metadata": {
        "id": "66lOaJ9yRGSM"
      },
      "source": [
        "number = [int(x) for x in input().split()]\n",
        "number.sort()\n",
        "try:\n",
        "    a,b,c = (number[0],number[1],number[2])\n",
        "    if a+b < c:\n",
        "        for i in number:\n",
        "                print(i,end=' ')\n",
        "        print('\\nNo')\n",
        "    else:\n",
        "        if a*a+b*b == c*c:\n",
        "            for i in number:\n",
        "                print(i,end=' ')\n",
        "            print('\\nRight')\n",
        "        elif a*a+b*b < c*c:\n",
        "            for i in number:\n",
        "                print(i,end=' ')\n",
        "            print('\\nObtuse')\n",
        "        else:\n",
        "            for i in number:\n",
        "                print(i,end=' ')\n",
        "            print('\\nAcute')  \n",
        "except :\n",
        "    print(\"輸入錯誤\")"
      ],
      "execution_count": null,
      "outputs": []
    }
  ]
}